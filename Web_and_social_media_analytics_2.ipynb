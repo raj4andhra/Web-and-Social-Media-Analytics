{
  "nbformat": 4,
  "nbformat_minor": 0,
  "metadata": {
    "colab": {
      "provenance": []
    },
    "kernelspec": {
      "name": "python3",
      "display_name": "Python 3"
    },
    "language_info": {
      "name": "python"
    }
  },
  "cells": [
    {
      "cell_type": "markdown",
      "source": [
        "# ***Model Building***\n",
        "\n",
        "\n",
        "# **Part 2: Building a sentiment classification engine.**\n",
        "\n",
        "\n",
        "# Text Pre-processing and Model Building and Evaluation"
      ],
      "metadata": {
        "id": "14odoJQN-ION"
      }
    },
    {
      "cell_type": "code",
      "source": [
        "# Importing libraries\n",
        "import pandas as pd\n",
        "import numpy as np\n",
        "import re\n",
        "from sklearn.feature_extraction.text import TfidfVectorizer\n",
        "from nltk import FreqDist\n",
        "from nltk.stem.porter import PorterStemmer\n",
        "from nltk.tokenize import word_tokenize\n",
        "from nltk.stem import WordNetLemmatizer\n",
        "import seaborn as sns\n",
        "import matplotlib.pyplot as plt\n",
        "sns.set(style=\"whitegrid\")\n",
        "%matplotlib inline\n",
        "\n",
        "# model evaluation\n",
        "from sklearn import metrics\n",
        "from sklearn.metrics import confusion_matrix\n",
        "from sklearn.metrics import precision_score\n",
        "from sklearn.metrics import precision_recall_curve"
      ],
      "metadata": {
        "id": "C7-Cnp5M-c1b"
      },
      "execution_count": 1,
      "outputs": []
    },
    {
      "cell_type": "markdown",
      "source": [
        "# Mounting the drive"
      ],
      "metadata": {
        "id": "TqEEXjnPgfrO"
      }
    },
    {
      "cell_type": "code",
      "source": [
        "# importing drive to upload dataset\n",
        "from google.colab import drive\n",
        "drive.mount('/content/drive')"
      ],
      "metadata": {
        "colab": {
          "base_uri": "https://localhost:8080/"
        },
        "id": "Wu-vYqkS-k68",
        "outputId": "86c5e2de-41f0-4985-e2b8-335abe969778"
      },
      "execution_count": 2,
      "outputs": [
        {
          "output_type": "stream",
          "name": "stdout",
          "text": [
            "Mounted at /content/drive\n"
          ]
        }
      ]
    },
    {
      "cell_type": "markdown",
      "source": [
        "## **## Importing and Pre-processing Data**"
      ],
      "metadata": {
        "id": "ENT-UzJzgNJa"
      }
    },
    {
      "cell_type": "code",
      "source": [
        "df_merged = pd.read_excel('/content/drive/My Drive/merged_excelfile.xlsx')"
      ],
      "metadata": {
        "id": "IrCRif-6-qPD"
      },
      "execution_count": 3,
      "outputs": []
    },
    {
      "cell_type": "code",
      "source": [
        "df_merged.head(10)"
      ],
      "metadata": {
        "colab": {
          "base_uri": "https://localhost:8080/",
          "height": 1000
        },
        "id": "tr4iTdle_CCt",
        "outputId": "0fbd0adf-4288-469b-d505-a7894ea3991a"
      },
      "execution_count": 4,
      "outputs": [
        {
          "output_type": "execute_result",
          "data": {
            "text/plain": [
              "   overall  verified      reviewerID        asin                  style  \\\n",
              "0        5         1  A1LFAMJJM87RSG  B000W8RP3K  {'Color:': ' Silver'}   \n",
              "1        4         1   AEYUHCDXPEGC2  B000W8RP3K  {'Color:': ' Silver'}   \n",
              "2        1         1  A14AQLOUQ6JUDZ  B000W8RP3K  {'Color:': ' Silver'}   \n",
              "3        5         1  A3FPRXIFC0JGPU  B000W8RP3K  {'Color:': ' Silver'}   \n",
              "4        5         1  A1IZUYUKA5FO39  B000W8RP3K  {'Color:': ' Silver'}   \n",
              "5        3         1  A1TDHAKEDTJL2J  B000W8RP3K  {'Color:': ' Silver'}   \n",
              "6        5         1  A1LFAMJJM87RSG  B000W8RP3K  {'Color:': ' Silver'}   \n",
              "7        4         1   AEYUHCDXPEGC2  B000W8RP3K  {'Color:': ' Silver'}   \n",
              "8        1         1  A14AQLOUQ6JUDZ  B000W8RP3K  {'Color:': ' Silver'}   \n",
              "9        5         1  A3FPRXIFC0JGPU  B000W8RP3K  {'Color:': ' Silver'}   \n",
              "\n",
              "      reviewerName                                         reviewText  \\\n",
              "0    Gayle Ledyard  This was a gift for my husband who does not wa...   \n",
              "1         mark4348                                        works great   \n",
              "2            noemi  Not the original one. Very bad product. To fra...   \n",
              "3         DAVALDAS                                 Just what I wanted   \n",
              "4  Billy E. Maddox  An excellent phone but not a smart phone.  I o...   \n",
              "5         Hazwaste  I didn't expect perfection with this used phon...   \n",
              "6    Gayle Ledyard  This was a gift for my husband who does not wa...   \n",
              "7         mark4348                                        works great   \n",
              "8            noemi  Not the original one. Very bad product. To fra...   \n",
              "9         DAVALDAS                                 Just what I wanted   \n",
              "\n",
              "                                             summary review_sentiment  \\\n",
              "0                                        Great phone         POSITIVE   \n",
              "1                                         Four Stars         POSITIVE   \n",
              "2                       Very bad product. To fragile         NEGATIVE   \n",
              "3                                         Five Stars         NEGATIVE   \n",
              "4           An excellent phone but not a smart phone         POSITIVE   \n",
              "5  Phone Works OK, But Battery Only Lasts 2 hours...         POSITIVE   \n",
              "6                                        Great phone         POSITIVE   \n",
              "7                                         Four Stars         POSITIVE   \n",
              "8                       Very bad product. To fragile         NEGATIVE   \n",
              "9                                         Five Stars         NEGATIVE   \n",
              "\n",
              "    Date&Time  ... also_buy     brand  \\\n",
              "0  2013-02-06  ...       []  Motorola   \n",
              "1  2015-08-08  ...       []  Motorola   \n",
              "2  2015-01-28  ...       []  Motorola   \n",
              "3  2014-12-07  ...       []  Motorola   \n",
              "4  2014-09-26  ...       []  Motorola   \n",
              "5  2014-02-12  ...       []  Motorola   \n",
              "6  2013-02-06  ...       []  Motorola   \n",
              "7  2015-08-08  ...       []  Motorola   \n",
              "8  2015-01-28  ...       []  Motorola   \n",
              "9  2014-12-07  ...       []  Motorola   \n",
              "\n",
              "                                             feature  \\\n",
              "0  ['This product has been carefully audited and ...   \n",
              "1  ['This product has been carefully audited and ...   \n",
              "2  ['This product has been carefully audited and ...   \n",
              "3  ['This product has been carefully audited and ...   \n",
              "4  ['This product has been carefully audited and ...   \n",
              "5  ['This product has been carefully audited and ...   \n",
              "6  ['This product has been carefully audited and ...   \n",
              "7  ['This product has been carefully audited and ...   \n",
              "8  ['This product has been carefully audited and ...   \n",
              "9  ['This product has been carefully audited and ...   \n",
              "\n",
              "                                                rank details      price  \\\n",
              "0  ['>#544,961 in Cell Phones & Accessories (See ...      {}  69.264778   \n",
              "1  ['>#544,961 in Cell Phones & Accessories (See ...      {}  69.264778   \n",
              "2  ['>#544,961 in Cell Phones & Accessories (See ...      {}  69.264778   \n",
              "3  ['>#544,961 in Cell Phones & Accessories (See ...      {}  69.264778   \n",
              "4  ['>#544,961 in Cell Phones & Accessories (See ...      {}  69.264778   \n",
              "5  ['>#544,961 in Cell Phones & Accessories (See ...      {}  69.264778   \n",
              "6  ['>#544,961 in Cell Phones & Accessories (See ...      {}  69.264778   \n",
              "7  ['>#544,961 in Cell Phones & Accessories (See ...      {}  69.264778   \n",
              "8  ['>#544,961 in Cell Phones & Accessories (See ...      {}  69.264778   \n",
              "9  ['>#544,961 in Cell Phones & Accessories (See ...      {}  69.264778   \n",
              "\n",
              "  category_new  new_rank                                      also_view_new  \\\n",
              "0  Cell Phones    544961  ['B0009FCAJA', 'B005LRBF88', 'B002UHS0UI', 'B0...   \n",
              "1  Cell Phones    544961  ['B0009FCAJA', 'B005LRBF88', 'B002UHS0UI', 'B0...   \n",
              "2  Cell Phones    544961  ['B0009FCAJA', 'B005LRBF88', 'B002UHS0UI', 'B0...   \n",
              "3  Cell Phones    544961  ['B0009FCAJA', 'B005LRBF88', 'B002UHS0UI', 'B0...   \n",
              "4  Cell Phones    544961  ['B0009FCAJA', 'B005LRBF88', 'B002UHS0UI', 'B0...   \n",
              "5  Cell Phones    544961  ['B0009FCAJA', 'B005LRBF88', 'B002UHS0UI', 'B0...   \n",
              "6  Cell Phones    544961  ['B0009FCAJA', 'B005LRBF88', 'B002UHS0UI', 'B0...   \n",
              "7  Cell Phones    544961  ['B0009FCAJA', 'B005LRBF88', 'B002UHS0UI', 'B0...   \n",
              "8  Cell Phones    544961  ['B0009FCAJA', 'B005LRBF88', 'B002UHS0UI', 'B0...   \n",
              "9  Cell Phones    544961  ['B0009FCAJA', 'B005LRBF88', 'B002UHS0UI', 'B0...   \n",
              "\n",
              "                           also_view_brand  \n",
              "0  ['Motorola', 'GreatCall', 'BlackBerry']  \n",
              "1  ['Motorola', 'GreatCall', 'BlackBerry']  \n",
              "2  ['Motorola', 'GreatCall', 'BlackBerry']  \n",
              "3  ['Motorola', 'GreatCall', 'BlackBerry']  \n",
              "4  ['Motorola', 'GreatCall', 'BlackBerry']  \n",
              "5  ['Motorola', 'GreatCall', 'BlackBerry']  \n",
              "6  ['Motorola', 'GreatCall', 'BlackBerry']  \n",
              "7  ['Motorola', 'GreatCall', 'BlackBerry']  \n",
              "8  ['Motorola', 'GreatCall', 'BlackBerry']  \n",
              "9  ['Motorola', 'GreatCall', 'BlackBerry']  \n",
              "\n",
              "[10 rows x 22 columns]"
            ],
            "text/html": [
              "\n",
              "  <div id=\"df-7497aca4-1f0d-4675-9446-87fb43633408\" class=\"colab-df-container\">\n",
              "    <div>\n",
              "<style scoped>\n",
              "    .dataframe tbody tr th:only-of-type {\n",
              "        vertical-align: middle;\n",
              "    }\n",
              "\n",
              "    .dataframe tbody tr th {\n",
              "        vertical-align: top;\n",
              "    }\n",
              "\n",
              "    .dataframe thead th {\n",
              "        text-align: right;\n",
              "    }\n",
              "</style>\n",
              "<table border=\"1\" class=\"dataframe\">\n",
              "  <thead>\n",
              "    <tr style=\"text-align: right;\">\n",
              "      <th></th>\n",
              "      <th>overall</th>\n",
              "      <th>verified</th>\n",
              "      <th>reviewerID</th>\n",
              "      <th>asin</th>\n",
              "      <th>style</th>\n",
              "      <th>reviewerName</th>\n",
              "      <th>reviewText</th>\n",
              "      <th>summary</th>\n",
              "      <th>review_sentiment</th>\n",
              "      <th>Date&amp;Time</th>\n",
              "      <th>...</th>\n",
              "      <th>also_buy</th>\n",
              "      <th>brand</th>\n",
              "      <th>feature</th>\n",
              "      <th>rank</th>\n",
              "      <th>details</th>\n",
              "      <th>price</th>\n",
              "      <th>category_new</th>\n",
              "      <th>new_rank</th>\n",
              "      <th>also_view_new</th>\n",
              "      <th>also_view_brand</th>\n",
              "    </tr>\n",
              "  </thead>\n",
              "  <tbody>\n",
              "    <tr>\n",
              "      <th>0</th>\n",
              "      <td>5</td>\n",
              "      <td>1</td>\n",
              "      <td>A1LFAMJJM87RSG</td>\n",
              "      <td>B000W8RP3K</td>\n",
              "      <td>{'Color:': ' Silver'}</td>\n",
              "      <td>Gayle Ledyard</td>\n",
              "      <td>This was a gift for my husband who does not wa...</td>\n",
              "      <td>Great phone</td>\n",
              "      <td>POSITIVE</td>\n",
              "      <td>2013-02-06</td>\n",
              "      <td>...</td>\n",
              "      <td>[]</td>\n",
              "      <td>Motorola</td>\n",
              "      <td>['This product has been carefully audited and ...</td>\n",
              "      <td>['&gt;#544,961 in Cell Phones &amp; Accessories (See ...</td>\n",
              "      <td>{}</td>\n",
              "      <td>69.264778</td>\n",
              "      <td>Cell Phones</td>\n",
              "      <td>544961</td>\n",
              "      <td>['B0009FCAJA', 'B005LRBF88', 'B002UHS0UI', 'B0...</td>\n",
              "      <td>['Motorola', 'GreatCall', 'BlackBerry']</td>\n",
              "    </tr>\n",
              "    <tr>\n",
              "      <th>1</th>\n",
              "      <td>4</td>\n",
              "      <td>1</td>\n",
              "      <td>AEYUHCDXPEGC2</td>\n",
              "      <td>B000W8RP3K</td>\n",
              "      <td>{'Color:': ' Silver'}</td>\n",
              "      <td>mark4348</td>\n",
              "      <td>works great</td>\n",
              "      <td>Four Stars</td>\n",
              "      <td>POSITIVE</td>\n",
              "      <td>2015-08-08</td>\n",
              "      <td>...</td>\n",
              "      <td>[]</td>\n",
              "      <td>Motorola</td>\n",
              "      <td>['This product has been carefully audited and ...</td>\n",
              "      <td>['&gt;#544,961 in Cell Phones &amp; Accessories (See ...</td>\n",
              "      <td>{}</td>\n",
              "      <td>69.264778</td>\n",
              "      <td>Cell Phones</td>\n",
              "      <td>544961</td>\n",
              "      <td>['B0009FCAJA', 'B005LRBF88', 'B002UHS0UI', 'B0...</td>\n",
              "      <td>['Motorola', 'GreatCall', 'BlackBerry']</td>\n",
              "    </tr>\n",
              "    <tr>\n",
              "      <th>2</th>\n",
              "      <td>1</td>\n",
              "      <td>1</td>\n",
              "      <td>A14AQLOUQ6JUDZ</td>\n",
              "      <td>B000W8RP3K</td>\n",
              "      <td>{'Color:': ' Silver'}</td>\n",
              "      <td>noemi</td>\n",
              "      <td>Not the original one. Very bad product. To fra...</td>\n",
              "      <td>Very bad product. To fragile</td>\n",
              "      <td>NEGATIVE</td>\n",
              "      <td>2015-01-28</td>\n",
              "      <td>...</td>\n",
              "      <td>[]</td>\n",
              "      <td>Motorola</td>\n",
              "      <td>['This product has been carefully audited and ...</td>\n",
              "      <td>['&gt;#544,961 in Cell Phones &amp; Accessories (See ...</td>\n",
              "      <td>{}</td>\n",
              "      <td>69.264778</td>\n",
              "      <td>Cell Phones</td>\n",
              "      <td>544961</td>\n",
              "      <td>['B0009FCAJA', 'B005LRBF88', 'B002UHS0UI', 'B0...</td>\n",
              "      <td>['Motorola', 'GreatCall', 'BlackBerry']</td>\n",
              "    </tr>\n",
              "    <tr>\n",
              "      <th>3</th>\n",
              "      <td>5</td>\n",
              "      <td>1</td>\n",
              "      <td>A3FPRXIFC0JGPU</td>\n",
              "      <td>B000W8RP3K</td>\n",
              "      <td>{'Color:': ' Silver'}</td>\n",
              "      <td>DAVALDAS</td>\n",
              "      <td>Just what I wanted</td>\n",
              "      <td>Five Stars</td>\n",
              "      <td>NEGATIVE</td>\n",
              "      <td>2014-12-07</td>\n",
              "      <td>...</td>\n",
              "      <td>[]</td>\n",
              "      <td>Motorola</td>\n",
              "      <td>['This product has been carefully audited and ...</td>\n",
              "      <td>['&gt;#544,961 in Cell Phones &amp; Accessories (See ...</td>\n",
              "      <td>{}</td>\n",
              "      <td>69.264778</td>\n",
              "      <td>Cell Phones</td>\n",
              "      <td>544961</td>\n",
              "      <td>['B0009FCAJA', 'B005LRBF88', 'B002UHS0UI', 'B0...</td>\n",
              "      <td>['Motorola', 'GreatCall', 'BlackBerry']</td>\n",
              "    </tr>\n",
              "    <tr>\n",
              "      <th>4</th>\n",
              "      <td>5</td>\n",
              "      <td>1</td>\n",
              "      <td>A1IZUYUKA5FO39</td>\n",
              "      <td>B000W8RP3K</td>\n",
              "      <td>{'Color:': ' Silver'}</td>\n",
              "      <td>Billy E. Maddox</td>\n",
              "      <td>An excellent phone but not a smart phone.  I o...</td>\n",
              "      <td>An excellent phone but not a smart phone</td>\n",
              "      <td>POSITIVE</td>\n",
              "      <td>2014-09-26</td>\n",
              "      <td>...</td>\n",
              "      <td>[]</td>\n",
              "      <td>Motorola</td>\n",
              "      <td>['This product has been carefully audited and ...</td>\n",
              "      <td>['&gt;#544,961 in Cell Phones &amp; Accessories (See ...</td>\n",
              "      <td>{}</td>\n",
              "      <td>69.264778</td>\n",
              "      <td>Cell Phones</td>\n",
              "      <td>544961</td>\n",
              "      <td>['B0009FCAJA', 'B005LRBF88', 'B002UHS0UI', 'B0...</td>\n",
              "      <td>['Motorola', 'GreatCall', 'BlackBerry']</td>\n",
              "    </tr>\n",
              "    <tr>\n",
              "      <th>5</th>\n",
              "      <td>3</td>\n",
              "      <td>1</td>\n",
              "      <td>A1TDHAKEDTJL2J</td>\n",
              "      <td>B000W8RP3K</td>\n",
              "      <td>{'Color:': ' Silver'}</td>\n",
              "      <td>Hazwaste</td>\n",
              "      <td>I didn't expect perfection with this used phon...</td>\n",
              "      <td>Phone Works OK, But Battery Only Lasts 2 hours...</td>\n",
              "      <td>POSITIVE</td>\n",
              "      <td>2014-02-12</td>\n",
              "      <td>...</td>\n",
              "      <td>[]</td>\n",
              "      <td>Motorola</td>\n",
              "      <td>['This product has been carefully audited and ...</td>\n",
              "      <td>['&gt;#544,961 in Cell Phones &amp; Accessories (See ...</td>\n",
              "      <td>{}</td>\n",
              "      <td>69.264778</td>\n",
              "      <td>Cell Phones</td>\n",
              "      <td>544961</td>\n",
              "      <td>['B0009FCAJA', 'B005LRBF88', 'B002UHS0UI', 'B0...</td>\n",
              "      <td>['Motorola', 'GreatCall', 'BlackBerry']</td>\n",
              "    </tr>\n",
              "    <tr>\n",
              "      <th>6</th>\n",
              "      <td>5</td>\n",
              "      <td>1</td>\n",
              "      <td>A1LFAMJJM87RSG</td>\n",
              "      <td>B000W8RP3K</td>\n",
              "      <td>{'Color:': ' Silver'}</td>\n",
              "      <td>Gayle Ledyard</td>\n",
              "      <td>This was a gift for my husband who does not wa...</td>\n",
              "      <td>Great phone</td>\n",
              "      <td>POSITIVE</td>\n",
              "      <td>2013-02-06</td>\n",
              "      <td>...</td>\n",
              "      <td>[]</td>\n",
              "      <td>Motorola</td>\n",
              "      <td>['This product has been carefully audited and ...</td>\n",
              "      <td>['&gt;#544,961 in Cell Phones &amp; Accessories (See ...</td>\n",
              "      <td>{}</td>\n",
              "      <td>69.264778</td>\n",
              "      <td>Cell Phones</td>\n",
              "      <td>544961</td>\n",
              "      <td>['B0009FCAJA', 'B005LRBF88', 'B002UHS0UI', 'B0...</td>\n",
              "      <td>['Motorola', 'GreatCall', 'BlackBerry']</td>\n",
              "    </tr>\n",
              "    <tr>\n",
              "      <th>7</th>\n",
              "      <td>4</td>\n",
              "      <td>1</td>\n",
              "      <td>AEYUHCDXPEGC2</td>\n",
              "      <td>B000W8RP3K</td>\n",
              "      <td>{'Color:': ' Silver'}</td>\n",
              "      <td>mark4348</td>\n",
              "      <td>works great</td>\n",
              "      <td>Four Stars</td>\n",
              "      <td>POSITIVE</td>\n",
              "      <td>2015-08-08</td>\n",
              "      <td>...</td>\n",
              "      <td>[]</td>\n",
              "      <td>Motorola</td>\n",
              "      <td>['This product has been carefully audited and ...</td>\n",
              "      <td>['&gt;#544,961 in Cell Phones &amp; Accessories (See ...</td>\n",
              "      <td>{}</td>\n",
              "      <td>69.264778</td>\n",
              "      <td>Cell Phones</td>\n",
              "      <td>544961</td>\n",
              "      <td>['B0009FCAJA', 'B005LRBF88', 'B002UHS0UI', 'B0...</td>\n",
              "      <td>['Motorola', 'GreatCall', 'BlackBerry']</td>\n",
              "    </tr>\n",
              "    <tr>\n",
              "      <th>8</th>\n",
              "      <td>1</td>\n",
              "      <td>1</td>\n",
              "      <td>A14AQLOUQ6JUDZ</td>\n",
              "      <td>B000W8RP3K</td>\n",
              "      <td>{'Color:': ' Silver'}</td>\n",
              "      <td>noemi</td>\n",
              "      <td>Not the original one. Very bad product. To fra...</td>\n",
              "      <td>Very bad product. To fragile</td>\n",
              "      <td>NEGATIVE</td>\n",
              "      <td>2015-01-28</td>\n",
              "      <td>...</td>\n",
              "      <td>[]</td>\n",
              "      <td>Motorola</td>\n",
              "      <td>['This product has been carefully audited and ...</td>\n",
              "      <td>['&gt;#544,961 in Cell Phones &amp; Accessories (See ...</td>\n",
              "      <td>{}</td>\n",
              "      <td>69.264778</td>\n",
              "      <td>Cell Phones</td>\n",
              "      <td>544961</td>\n",
              "      <td>['B0009FCAJA', 'B005LRBF88', 'B002UHS0UI', 'B0...</td>\n",
              "      <td>['Motorola', 'GreatCall', 'BlackBerry']</td>\n",
              "    </tr>\n",
              "    <tr>\n",
              "      <th>9</th>\n",
              "      <td>5</td>\n",
              "      <td>1</td>\n",
              "      <td>A3FPRXIFC0JGPU</td>\n",
              "      <td>B000W8RP3K</td>\n",
              "      <td>{'Color:': ' Silver'}</td>\n",
              "      <td>DAVALDAS</td>\n",
              "      <td>Just what I wanted</td>\n",
              "      <td>Five Stars</td>\n",
              "      <td>NEGATIVE</td>\n",
              "      <td>2014-12-07</td>\n",
              "      <td>...</td>\n",
              "      <td>[]</td>\n",
              "      <td>Motorola</td>\n",
              "      <td>['This product has been carefully audited and ...</td>\n",
              "      <td>['&gt;#544,961 in Cell Phones &amp; Accessories (See ...</td>\n",
              "      <td>{}</td>\n",
              "      <td>69.264778</td>\n",
              "      <td>Cell Phones</td>\n",
              "      <td>544961</td>\n",
              "      <td>['B0009FCAJA', 'B005LRBF88', 'B002UHS0UI', 'B0...</td>\n",
              "      <td>['Motorola', 'GreatCall', 'BlackBerry']</td>\n",
              "    </tr>\n",
              "  </tbody>\n",
              "</table>\n",
              "<p>10 rows × 22 columns</p>\n",
              "</div>\n",
              "    <div class=\"colab-df-buttons\">\n",
              "\n",
              "  <div class=\"colab-df-container\">\n",
              "    <button class=\"colab-df-convert\" onclick=\"convertToInteractive('df-7497aca4-1f0d-4675-9446-87fb43633408')\"\n",
              "            title=\"Convert this dataframe to an interactive table.\"\n",
              "            style=\"display:none;\">\n",
              "\n",
              "  <svg xmlns=\"http://www.w3.org/2000/svg\" height=\"24px\" viewBox=\"0 -960 960 960\">\n",
              "    <path d=\"M120-120v-720h720v720H120Zm60-500h600v-160H180v160Zm220 220h160v-160H400v160Zm0 220h160v-160H400v160ZM180-400h160v-160H180v160Zm440 0h160v-160H620v160ZM180-180h160v-160H180v160Zm440 0h160v-160H620v160Z\"/>\n",
              "  </svg>\n",
              "    </button>\n",
              "\n",
              "  <style>\n",
              "    .colab-df-container {\n",
              "      display:flex;\n",
              "      gap: 12px;\n",
              "    }\n",
              "\n",
              "    .colab-df-convert {\n",
              "      background-color: #E8F0FE;\n",
              "      border: none;\n",
              "      border-radius: 50%;\n",
              "      cursor: pointer;\n",
              "      display: none;\n",
              "      fill: #1967D2;\n",
              "      height: 32px;\n",
              "      padding: 0 0 0 0;\n",
              "      width: 32px;\n",
              "    }\n",
              "\n",
              "    .colab-df-convert:hover {\n",
              "      background-color: #E2EBFA;\n",
              "      box-shadow: 0px 1px 2px rgba(60, 64, 67, 0.3), 0px 1px 3px 1px rgba(60, 64, 67, 0.15);\n",
              "      fill: #174EA6;\n",
              "    }\n",
              "\n",
              "    .colab-df-buttons div {\n",
              "      margin-bottom: 4px;\n",
              "    }\n",
              "\n",
              "    [theme=dark] .colab-df-convert {\n",
              "      background-color: #3B4455;\n",
              "      fill: #D2E3FC;\n",
              "    }\n",
              "\n",
              "    [theme=dark] .colab-df-convert:hover {\n",
              "      background-color: #434B5C;\n",
              "      box-shadow: 0px 1px 3px 1px rgba(0, 0, 0, 0.15);\n",
              "      filter: drop-shadow(0px 1px 2px rgba(0, 0, 0, 0.3));\n",
              "      fill: #FFFFFF;\n",
              "    }\n",
              "  </style>\n",
              "\n",
              "    <script>\n",
              "      const buttonEl =\n",
              "        document.querySelector('#df-7497aca4-1f0d-4675-9446-87fb43633408 button.colab-df-convert');\n",
              "      buttonEl.style.display =\n",
              "        google.colab.kernel.accessAllowed ? 'block' : 'none';\n",
              "\n",
              "      async function convertToInteractive(key) {\n",
              "        const element = document.querySelector('#df-7497aca4-1f0d-4675-9446-87fb43633408');\n",
              "        const dataTable =\n",
              "          await google.colab.kernel.invokeFunction('convertToInteractive',\n",
              "                                                    [key], {});\n",
              "        if (!dataTable) return;\n",
              "\n",
              "        const docLinkHtml = 'Like what you see? Visit the ' +\n",
              "          '<a target=\"_blank\" href=https://colab.research.google.com/notebooks/data_table.ipynb>data table notebook</a>'\n",
              "          + ' to learn more about interactive tables.';\n",
              "        element.innerHTML = '';\n",
              "        dataTable['output_type'] = 'display_data';\n",
              "        await google.colab.output.renderOutput(dataTable, element);\n",
              "        const docLink = document.createElement('div');\n",
              "        docLink.innerHTML = docLinkHtml;\n",
              "        element.appendChild(docLink);\n",
              "      }\n",
              "    </script>\n",
              "  </div>\n",
              "\n",
              "\n",
              "<div id=\"df-27139561-b228-444d-aad5-15252ad720a2\">\n",
              "  <button class=\"colab-df-quickchart\" onclick=\"quickchart('df-27139561-b228-444d-aad5-15252ad720a2')\"\n",
              "            title=\"Suggest charts.\"\n",
              "            style=\"display:none;\">\n",
              "\n",
              "<svg xmlns=\"http://www.w3.org/2000/svg\" height=\"24px\"viewBox=\"0 0 24 24\"\n",
              "     width=\"24px\">\n",
              "    <g>\n",
              "        <path d=\"M19 3H5c-1.1 0-2 .9-2 2v14c0 1.1.9 2 2 2h14c1.1 0 2-.9 2-2V5c0-1.1-.9-2-2-2zM9 17H7v-7h2v7zm4 0h-2V7h2v10zm4 0h-2v-4h2v4z\"/>\n",
              "    </g>\n",
              "</svg>\n",
              "  </button>\n",
              "\n",
              "<style>\n",
              "  .colab-df-quickchart {\n",
              "      --bg-color: #E8F0FE;\n",
              "      --fill-color: #1967D2;\n",
              "      --hover-bg-color: #E2EBFA;\n",
              "      --hover-fill-color: #174EA6;\n",
              "      --disabled-fill-color: #AAA;\n",
              "      --disabled-bg-color: #DDD;\n",
              "  }\n",
              "\n",
              "  [theme=dark] .colab-df-quickchart {\n",
              "      --bg-color: #3B4455;\n",
              "      --fill-color: #D2E3FC;\n",
              "      --hover-bg-color: #434B5C;\n",
              "      --hover-fill-color: #FFFFFF;\n",
              "      --disabled-bg-color: #3B4455;\n",
              "      --disabled-fill-color: #666;\n",
              "  }\n",
              "\n",
              "  .colab-df-quickchart {\n",
              "    background-color: var(--bg-color);\n",
              "    border: none;\n",
              "    border-radius: 50%;\n",
              "    cursor: pointer;\n",
              "    display: none;\n",
              "    fill: var(--fill-color);\n",
              "    height: 32px;\n",
              "    padding: 0;\n",
              "    width: 32px;\n",
              "  }\n",
              "\n",
              "  .colab-df-quickchart:hover {\n",
              "    background-color: var(--hover-bg-color);\n",
              "    box-shadow: 0 1px 2px rgba(60, 64, 67, 0.3), 0 1px 3px 1px rgba(60, 64, 67, 0.15);\n",
              "    fill: var(--button-hover-fill-color);\n",
              "  }\n",
              "\n",
              "  .colab-df-quickchart-complete:disabled,\n",
              "  .colab-df-quickchart-complete:disabled:hover {\n",
              "    background-color: var(--disabled-bg-color);\n",
              "    fill: var(--disabled-fill-color);\n",
              "    box-shadow: none;\n",
              "  }\n",
              "\n",
              "  .colab-df-spinner {\n",
              "    border: 2px solid var(--fill-color);\n",
              "    border-color: transparent;\n",
              "    border-bottom-color: var(--fill-color);\n",
              "    animation:\n",
              "      spin 1s steps(1) infinite;\n",
              "  }\n",
              "\n",
              "  @keyframes spin {\n",
              "    0% {\n",
              "      border-color: transparent;\n",
              "      border-bottom-color: var(--fill-color);\n",
              "      border-left-color: var(--fill-color);\n",
              "    }\n",
              "    20% {\n",
              "      border-color: transparent;\n",
              "      border-left-color: var(--fill-color);\n",
              "      border-top-color: var(--fill-color);\n",
              "    }\n",
              "    30% {\n",
              "      border-color: transparent;\n",
              "      border-left-color: var(--fill-color);\n",
              "      border-top-color: var(--fill-color);\n",
              "      border-right-color: var(--fill-color);\n",
              "    }\n",
              "    40% {\n",
              "      border-color: transparent;\n",
              "      border-right-color: var(--fill-color);\n",
              "      border-top-color: var(--fill-color);\n",
              "    }\n",
              "    60% {\n",
              "      border-color: transparent;\n",
              "      border-right-color: var(--fill-color);\n",
              "    }\n",
              "    80% {\n",
              "      border-color: transparent;\n",
              "      border-right-color: var(--fill-color);\n",
              "      border-bottom-color: var(--fill-color);\n",
              "    }\n",
              "    90% {\n",
              "      border-color: transparent;\n",
              "      border-bottom-color: var(--fill-color);\n",
              "    }\n",
              "  }\n",
              "</style>\n",
              "\n",
              "  <script>\n",
              "    async function quickchart(key) {\n",
              "      const quickchartButtonEl =\n",
              "        document.querySelector('#' + key + ' button');\n",
              "      quickchartButtonEl.disabled = true;  // To prevent multiple clicks.\n",
              "      quickchartButtonEl.classList.add('colab-df-spinner');\n",
              "      try {\n",
              "        const charts = await google.colab.kernel.invokeFunction(\n",
              "            'suggestCharts', [key], {});\n",
              "      } catch (error) {\n",
              "        console.error('Error during call to suggestCharts:', error);\n",
              "      }\n",
              "      quickchartButtonEl.classList.remove('colab-df-spinner');\n",
              "      quickchartButtonEl.classList.add('colab-df-quickchart-complete');\n",
              "    }\n",
              "    (() => {\n",
              "      let quickchartButtonEl =\n",
              "        document.querySelector('#df-27139561-b228-444d-aad5-15252ad720a2 button');\n",
              "      quickchartButtonEl.style.display =\n",
              "        google.colab.kernel.accessAllowed ? 'block' : 'none';\n",
              "    })();\n",
              "  </script>\n",
              "</div>\n",
              "    </div>\n",
              "  </div>\n"
            ]
          },
          "metadata": {},
          "execution_count": 4
        }
      ]
    },
    {
      "cell_type": "code",
      "source": [
        "df_merged.info()"
      ],
      "metadata": {
        "colab": {
          "base_uri": "https://localhost:8080/"
        },
        "id": "4VtwRZ3h_H2O",
        "outputId": "48fe06c3-705a-4402-b5fc-8a6bf5be7cbf"
      },
      "execution_count": 5,
      "outputs": [
        {
          "output_type": "stream",
          "name": "stdout",
          "text": [
            "<class 'pandas.core.frame.DataFrame'>\n",
            "RangeIndex: 27753 entries, 0 to 27752\n",
            "Data columns (total 22 columns):\n",
            " #   Column            Non-Null Count  Dtype  \n",
            "---  ------            --------------  -----  \n",
            " 0   overall           27753 non-null  int64  \n",
            " 1   verified          27753 non-null  int64  \n",
            " 2   reviewerID        27753 non-null  object \n",
            " 3   asin              27753 non-null  object \n",
            " 4   style             27753 non-null  object \n",
            " 5   reviewerName      27751 non-null  object \n",
            " 6   reviewText        27753 non-null  object \n",
            " 7   summary           27743 non-null  object \n",
            " 8   review_sentiment  27753 non-null  object \n",
            " 9   Date&Time         27753 non-null  object \n",
            " 10  description       27753 non-null  object \n",
            " 11  title             27753 non-null  object \n",
            " 12  also_buy          27753 non-null  object \n",
            " 13  brand             27753 non-null  object \n",
            " 14  feature           27753 non-null  object \n",
            " 15  rank              27753 non-null  object \n",
            " 16  details           27753 non-null  object \n",
            " 17  price             27753 non-null  float64\n",
            " 18  category_new      27753 non-null  object \n",
            " 19  new_rank          27753 non-null  int64  \n",
            " 20  also_view_new     27753 non-null  object \n",
            " 21  also_view_brand   27753 non-null  object \n",
            "dtypes: float64(1), int64(3), object(18)\n",
            "memory usage: 4.7+ MB\n"
          ]
        }
      ]
    },
    {
      "cell_type": "code",
      "source": [
        "# mapping labels to 0 and 1\n",
        "df_merged['review_sentiment'] = df_merged.review_sentiment.map({'POSITIVE':1, 'NEGATIVE':0})\n"
      ],
      "metadata": {
        "id": "KipDGJ8F_Nzc"
      },
      "execution_count": 6,
      "outputs": []
    },
    {
      "cell_type": "code",
      "source": [
        "df_reviews = df_merged[[\"reviewText\",\"review_sentiment\"]]"
      ],
      "metadata": {
        "id": "y7c0fvx-_8yy"
      },
      "execution_count": 7,
      "outputs": []
    },
    {
      "cell_type": "markdown",
      "source": [
        "# **Pre-processing the text**"
      ],
      "metadata": {
        "id": "WyT6qKDbAE5O"
      }
    },
    {
      "cell_type": "code",
      "source": [
        "# Reading stop words from a text file in to a list\n",
        "stop_words = [line.rstrip('\\n') for line in open('/content/drive/MyDrive/sentiment_analysis/stop_words_long.txt')]"
      ],
      "metadata": {
        "id": "RFKf-pjgAD_K"
      },
      "execution_count": 8,
      "outputs": []
    },
    {
      "cell_type": "code",
      "source": [
        "# remove contraction and make it as normal string\n",
        "contractionsMain = {\"ain't\": \"is not\", \"aren't\": \"are not\",\"can't\": \"can not\", \"'cause\": \"because\", \"could've\": \"could have\", \"couldn't\": \"could not\", \"didn't\": \"did not\",  \"doesn't\": \"does not\", \"don't\": \"do not\", \"hadn't\": \"had not\", \"hasn't\": \"has not\", \"haven't\": \"have not\", \"he'd\": \"he would\",\"he'll\": \"he will\", \"he's\": \"he is\", \"how'd\": \"how did\", \"how'd'y\": \"how do you\", \"how'll\": \"how will\", \"how's\": \"how is\",  \"I'd\": \"I would\", \"I'd've\": \"I would have\", \"I'll\": \"I will\", \"I'll've\": \"I will have\",\"I'm\": \"I am\", \"I've\": \"I have\", \"i'd\": \"i would\", \"i'd've\": \"i would have\", \"i'll\": \"i will\",  \"i'll've\": \"i will have\",\"i'm\": \"i am\", \"i've\": \"i have\", \"isn't\": \"is not\", \"it'd\": \"it would\", \"it'd've\": \"it would have\", \"it'll\": \"it will\", \"it'll've\": \"it will have\",\"it's\": \"it is\", \"let's\": \"let us\", \"ma'am\": \"madam\", \"mayn't\": \"may not\", \"might've\": \"might have\",\"mightn't\": \"might not\",\"mightn't've\": \"might not have\", \"must've\": \"must have\", \"mustn't\": \"must not\", \"mustn't've\": \"must not have\", \"needn't\": \"need not\", \"needn't've\": \"need not have\",\"o'clock\": \"of the clock\", \"oughtn't\": \"ought not\", \"oughtn't've\": \"ought not have\", \"shan't\": \"shall not\", \"sha'n't\": \"shall not\", \"shan't've\": \"shall not have\", \"she'd\": \"she would\", \"she'd've\": \"she would have\", \"she'll\": \"she will\", \"she'll've\": \"she will have\", \"she's\": \"she is\", \"should've\": \"should have\", \"shouldn't\": \"should not\", \"shouldn't've\": \"should not have\", \"so've\": \"so have\",\"so's\": \"so as\", \"this's\": \"this is\",\"that'd\": \"that would\", \"that'd've\": \"that would have\", \"that's\": \"that is\", \"there'd\": \"there would\", \"there'd've\": \"there would have\", \"there's\": \"there is\", \"here's\": \"here is\",\"they'd\": \"they would\", \"they'd've\": \"they would have\", \"they'll\": \"they will\", \"they'll've\": \"they will have\", \"they're\": \"they are\", \"they've\": \"they have\", \"to've\": \"to have\", \"wasn't\": \"was not\", \"we'd\": \"we would\", \"we'd've\": \"we would have\", \"we'll\": \"we will\", \"we'll've\": \"we will have\", \"we're\": \"we are\", \"we've\": \"we have\", \"weren't\": \"were not\", \"what'll\": \"what will\", \"what'll've\": \"what will have\", \"what're\": \"what are\",  \"what's\": \"what is\", \"what've\": \"what have\", \"when's\": \"when is\", \"when've\": \"when have\", \"where'd\": \"where did\", \"where's\": \"where is\", \"where've\": \"where have\", \"who'll\": \"who will\", \"who'll've\": \"who will have\", \"who's\": \"who is\", \"who've\": \"who have\", \"why's\": \"why is\", \"why've\": \"why have\", \"will've\": \"will have\", \"won't\": \"will not\", \"won't've\": \"will not have\", \"would've\": \"would have\", \"wouldn't\": \"would not\", \"wouldn't've\": \"would not have\", \"y'all\": \"you all\", \"y'all'd\": \"you all would\",\"y'all'd've\": \"you all would have\",\"y'all're\": \"you all are\",\"y'all've\": \"you all have\",\"you'd\": \"you would\", \"you'd've\": \"you would have\", \"you'll\": \"you will\", \"you'll've\": \"you will have\", \"you're\": \"you are\", \"you've\": \"you have\"}\n",
        "\n",
        "def getcontractions(contractionsMain):\n",
        "    contraction_key = re.compile('(%s)' % '|'.join(contractionsMain.keys()))\n",
        "    return contractionsMain, contraction_key\n",
        "\n",
        "contractions, contraction_key = getcontractions(contractionsMain)\n",
        "def replacecontractions(text):\n",
        "    def replace(match):\n",
        "        return contractions[match.group(0)]\n",
        "    return contraction_key.sub(replace, text)\n"
      ],
      "metadata": {
        "id": "eHnGwaayAbES"
      },
      "execution_count": 9,
      "outputs": []
    },
    {
      "cell_type": "code",
      "source": [
        "def remove_punctuations(text):\n",
        "    text = re.sub('[^A-Za-z]+', ' ', text)\n",
        "\n",
        "    return text"
      ],
      "metadata": {
        "id": "RqVwiQQ6Ag9g"
      },
      "execution_count": 10,
      "outputs": []
    },
    {
      "cell_type": "code",
      "source": [
        "#function to remove numbers and punctuation marks\n",
        "puncts_list=['!','@','#','$','%','^','&','*','(',')','-','_','+','=','{','}','[',']',':',';','?','/','\\\\','|','.','<','>']\n",
        "def removepuctuationmarks(x):\n",
        "    x = str(x)\n",
        "    for punct in puncts_list:\n",
        "        if punct in x:\n",
        "            x = x.replace(punct, '')\n",
        "    return x"
      ],
      "metadata": {
        "id": "AeFuSLK0Amtg"
      },
      "execution_count": 11,
      "outputs": []
    },
    {
      "cell_type": "code",
      "source": [
        "# replace charachter appearing for more than twice in any word to single character\n",
        "def replace_multiple_characters(text):\n",
        "        #repeat_pattern = re.compile(r'(\\w)\\1*')\n",
        "        repeat_pattern = re.compile(r'(\\w)\\1{2,}')\n",
        "        match_substitution = r'\\1\\1'\n",
        "        new_word = repeat_pattern.sub(match_substitution,text)\n",
        "        repeat_pattern1 = re.compile(r'(\\w)\\1{1,}$')\n",
        "        match_substitution1 = r'\\1'\n",
        "        new_word = repeat_pattern1.sub(match_substitution1,new_word)\n",
        "        return new_word"
      ],
      "metadata": {
        "id": "09FFUBapDkhE"
      },
      "execution_count": 12,
      "outputs": []
    },
    {
      "cell_type": "code",
      "source": [
        "stemmer = PorterStemmer()\n",
        "wordnet_lemmatizer = WordNetLemmatizer()\n",
        "def preprocessText(document):\n",
        "     # tokenize into words\n",
        "         # change sentence to lower case\n",
        "    document = document.lower()\n",
        "    words = word_tokenize(document)\n",
        "    # remove contractions\n",
        "    words = [ replacecontractions(word) for word in words ]\n",
        "\n",
        "    # remove stop words\n",
        "    words = [word for word in words if word not in stop_words]\n",
        "\n",
        "    # remove punctuation marks\n",
        "\n",
        "    words=[remove_punctuations(word) for word in words]\n",
        "\n",
        "    words=[replace_multiple_characters(word) for word in words]\n",
        "\n",
        "    # remove stop words\n",
        "    words = [word for word in words if word not in stop_words]\n",
        "\n",
        "    #apply lemmatization\n",
        "    words = [wordnet_lemmatizer.lemmatize(word, pos='v') for word in words]\n",
        "\n",
        "    words=[word for word in words if len(word)>2]\n",
        "    # join words to make sentence\n",
        "    document = \" \".join(words)\n",
        "\n",
        "    return document"
      ],
      "metadata": {
        "id": "8KINKWSpDmi6"
      },
      "execution_count": 13,
      "outputs": []
    },
    {
      "cell_type": "code",
      "source": [
        "import nltk\n",
        "nltk.download('punkt')\n",
        "nltk.download('wordnet')\n",
        "df_reviews[\"reviewText\"]=[preprocessText(str(x)) for x in df_reviews[\"reviewText\"]]"
      ],
      "metadata": {
        "colab": {
          "base_uri": "https://localhost:8080/"
        },
        "id": "y_iYPAlBDr-k",
        "outputId": "b5b1ffc5-769c-42e6-f280-cfd207788c8f"
      },
      "execution_count": 14,
      "outputs": [
        {
          "output_type": "stream",
          "name": "stderr",
          "text": [
            "[nltk_data] Downloading package punkt to /root/nltk_data...\n",
            "[nltk_data]   Unzipping tokenizers/punkt.zip.\n",
            "[nltk_data] Downloading package wordnet to /root/nltk_data...\n",
            "<ipython-input-14-d7aca8dc2815>:4: SettingWithCopyWarning: \n",
            "A value is trying to be set on a copy of a slice from a DataFrame.\n",
            "Try using .loc[row_indexer,col_indexer] = value instead\n",
            "\n",
            "See the caveats in the documentation: https://pandas.pydata.org/pandas-docs/stable/user_guide/indexing.html#returning-a-view-versus-a-copy\n",
            "  df_reviews[\"reviewText\"]=[preprocessText(str(x)) for x in df_reviews[\"reviewText\"]]\n"
          ]
        }
      ]
    },
    {
      "cell_type": "code",
      "source": [
        "# convert to X and y\n",
        "X = df_reviews.reviewText\n",
        "y = df_reviews.review_sentiment\n",
        "print(X.shape)\n",
        "print(y.shape)"
      ],
      "metadata": {
        "colab": {
          "base_uri": "https://localhost:8080/"
        },
        "id": "R9PRzH6wEIs5",
        "outputId": "d3f4a2ea-a407-4e24-b686-6f533ff07dce"
      },
      "execution_count": 15,
      "outputs": [
        {
          "output_type": "stream",
          "name": "stdout",
          "text": [
            "(27753,)\n",
            "(27753,)\n"
          ]
        }
      ]
    },
    {
      "cell_type": "code",
      "source": [
        "# splitting into test and train\n",
        "from sklearn.model_selection  import train_test_split\n",
        "X_train, X_test, y_train, y_test = train_test_split(X, y, random_state=1)"
      ],
      "metadata": {
        "id": "6dqWwm0xERYF"
      },
      "execution_count": 16,
      "outputs": []
    },
    {
      "cell_type": "code",
      "source": [
        "# vectorizing the sentences\n",
        "from sklearn.feature_extraction.text import CountVectorizer\n",
        "vect = CountVectorizer()"
      ],
      "metadata": {
        "id": "nJgvUzTDEfAd"
      },
      "execution_count": 17,
      "outputs": []
    },
    {
      "cell_type": "code",
      "source": [
        "vect.fit(X_train)"
      ],
      "metadata": {
        "colab": {
          "base_uri": "https://localhost:8080/",
          "height": 75
        },
        "id": "9XR0ys1ZEk4J",
        "outputId": "3d4b797c-205e-41a0-d635-2b9a558dc4be"
      },
      "execution_count": 18,
      "outputs": [
        {
          "output_type": "execute_result",
          "data": {
            "text/plain": [
              "CountVectorizer()"
            ],
            "text/html": [
              "<style>#sk-container-id-1 {color: black;background-color: white;}#sk-container-id-1 pre{padding: 0;}#sk-container-id-1 div.sk-toggleable {background-color: white;}#sk-container-id-1 label.sk-toggleable__label {cursor: pointer;display: block;width: 100%;margin-bottom: 0;padding: 0.3em;box-sizing: border-box;text-align: center;}#sk-container-id-1 label.sk-toggleable__label-arrow:before {content: \"▸\";float: left;margin-right: 0.25em;color: #696969;}#sk-container-id-1 label.sk-toggleable__label-arrow:hover:before {color: black;}#sk-container-id-1 div.sk-estimator:hover label.sk-toggleable__label-arrow:before {color: black;}#sk-container-id-1 div.sk-toggleable__content {max-height: 0;max-width: 0;overflow: hidden;text-align: left;background-color: #f0f8ff;}#sk-container-id-1 div.sk-toggleable__content pre {margin: 0.2em;color: black;border-radius: 0.25em;background-color: #f0f8ff;}#sk-container-id-1 input.sk-toggleable__control:checked~div.sk-toggleable__content {max-height: 200px;max-width: 100%;overflow: auto;}#sk-container-id-1 input.sk-toggleable__control:checked~label.sk-toggleable__label-arrow:before {content: \"▾\";}#sk-container-id-1 div.sk-estimator input.sk-toggleable__control:checked~label.sk-toggleable__label {background-color: #d4ebff;}#sk-container-id-1 div.sk-label input.sk-toggleable__control:checked~label.sk-toggleable__label {background-color: #d4ebff;}#sk-container-id-1 input.sk-hidden--visually {border: 0;clip: rect(1px 1px 1px 1px);clip: rect(1px, 1px, 1px, 1px);height: 1px;margin: -1px;overflow: hidden;padding: 0;position: absolute;width: 1px;}#sk-container-id-1 div.sk-estimator {font-family: monospace;background-color: #f0f8ff;border: 1px dotted black;border-radius: 0.25em;box-sizing: border-box;margin-bottom: 0.5em;}#sk-container-id-1 div.sk-estimator:hover {background-color: #d4ebff;}#sk-container-id-1 div.sk-parallel-item::after {content: \"\";width: 100%;border-bottom: 1px solid gray;flex-grow: 1;}#sk-container-id-1 div.sk-label:hover label.sk-toggleable__label {background-color: #d4ebff;}#sk-container-id-1 div.sk-serial::before {content: \"\";position: absolute;border-left: 1px solid gray;box-sizing: border-box;top: 0;bottom: 0;left: 50%;z-index: 0;}#sk-container-id-1 div.sk-serial {display: flex;flex-direction: column;align-items: center;background-color: white;padding-right: 0.2em;padding-left: 0.2em;position: relative;}#sk-container-id-1 div.sk-item {position: relative;z-index: 1;}#sk-container-id-1 div.sk-parallel {display: flex;align-items: stretch;justify-content: center;background-color: white;position: relative;}#sk-container-id-1 div.sk-item::before, #sk-container-id-1 div.sk-parallel-item::before {content: \"\";position: absolute;border-left: 1px solid gray;box-sizing: border-box;top: 0;bottom: 0;left: 50%;z-index: -1;}#sk-container-id-1 div.sk-parallel-item {display: flex;flex-direction: column;z-index: 1;position: relative;background-color: white;}#sk-container-id-1 div.sk-parallel-item:first-child::after {align-self: flex-end;width: 50%;}#sk-container-id-1 div.sk-parallel-item:last-child::after {align-self: flex-start;width: 50%;}#sk-container-id-1 div.sk-parallel-item:only-child::after {width: 0;}#sk-container-id-1 div.sk-dashed-wrapped {border: 1px dashed gray;margin: 0 0.4em 0.5em 0.4em;box-sizing: border-box;padding-bottom: 0.4em;background-color: white;}#sk-container-id-1 div.sk-label label {font-family: monospace;font-weight: bold;display: inline-block;line-height: 1.2em;}#sk-container-id-1 div.sk-label-container {text-align: center;}#sk-container-id-1 div.sk-container {/* jupyter's `normalize.less` sets `[hidden] { display: none; }` but bootstrap.min.css set `[hidden] { display: none !important; }` so we also need the `!important` here to be able to override the default hidden behavior on the sphinx rendered scikit-learn.org. See: https://github.com/scikit-learn/scikit-learn/issues/21755 */display: inline-block !important;position: relative;}#sk-container-id-1 div.sk-text-repr-fallback {display: none;}</style><div id=\"sk-container-id-1\" class=\"sk-top-container\"><div class=\"sk-text-repr-fallback\"><pre>CountVectorizer()</pre><b>In a Jupyter environment, please rerun this cell to show the HTML representation or trust the notebook. <br />On GitHub, the HTML representation is unable to render, please try loading this page with nbviewer.org.</b></div><div class=\"sk-container\" hidden><div class=\"sk-item\"><div class=\"sk-estimator sk-toggleable\"><input class=\"sk-toggleable__control sk-hidden--visually\" id=\"sk-estimator-id-1\" type=\"checkbox\" checked><label for=\"sk-estimator-id-1\" class=\"sk-toggleable__label sk-toggleable__label-arrow\">CountVectorizer</label><div class=\"sk-toggleable__content\"><pre>CountVectorizer()</pre></div></div></div></div></div>"
            ]
          },
          "metadata": {},
          "execution_count": 18
        }
      ]
    },
    {
      "cell_type": "code",
      "source": [
        "# printing the vocabulary\n",
        "vect.vocabulary_\n"
      ],
      "metadata": {
        "colab": {
          "base_uri": "https://localhost:8080/"
        },
        "id": "M_hueVMtEnOA",
        "outputId": "262d7231-bf8a-4a0c-a5c1-e2678a74244b"
      },
      "execution_count": 19,
      "outputs": [
        {
          "output_type": "execute_result",
          "data": {
            "text/plain": [
              "{'good': 6280,\n",
              " 'feature': 5395,\n",
              " 'nice': 10472,\n",
              " 'excellen': 5014,\n",
              " 'phone': 12485,\n",
              " 'stop': 15771,\n",
              " 'month': 9426,\n",
              " 'great': 6416,\n",
              " 'advertise': 277,\n",
              " 'version': 17767,\n",
              " 'support': 16057,\n",
              " 'gsm': 6485,\n",
              " 'band': 1195,\n",
              " 'work': 18368,\n",
              " 'internationally': 7679,\n",
              " 'depend': 3763,\n",
              " 'cellular': 2258,\n",
              " 'service': 14765,\n",
              " 'provider': 13213,\n",
              " 'check': 2362,\n",
              " 'countries': 3190,\n",
              " 'nhttp': 10463,\n",
              " 'ww': 18467,\n",
              " 'worldtimezone': 18393,\n",
              " 'com': 2685,\n",
              " 'html': 7047,\n",
              " 'nas': 9770,\n",
              " 'warn': 18000,\n",
              " 'not': 10890,\n",
              " 'cdma': 2238,\n",
              " 'network': 10212,\n",
              " 'verizon': 17756,\n",
              " 'nthis': 11382,\n",
              " 'budget': 1894,\n",
              " 'usually': 17635,\n",
              " 'find': 5492,\n",
              " 'higher': 6851,\n",
              " 'definitely': 3683,\n",
              " 'cheaper': 2349,\n",
              " 'available': 1056,\n",
              " 'market': 8896,\n",
              " 'filter': 5480,\n",
              " 'dual': 4388,\n",
              " 'sim': 14993,\n",
              " 'quad': 13365,\n",
              " 'cameras': 2079,\n",
              " 'ips': 7778,\n",
              " 'display': 4102,\n",
              " 'better': 1440,\n",
              " 'price': 13021,\n",
              " 'range': 13484,\n",
              " 'nwhat': 11561,\n",
              " 'lack': 8191,\n",
              " 'screen': 14585,\n",
              " 'resolution': 14041,\n",
              " 'like': 8447,\n",
              " 'high': 6849,\n",
              " 'honest': 6948,\n",
              " 'notice': 10914,\n",
              " 'difference': 3936,\n",
              " 'size': 15066,\n",
              " 'end': 4719,\n",
              " 'comparison': 2772,\n",
              " 'premium': 12959,\n",
              " 'uhd': 17157,\n",
              " 'apples': 747,\n",
              " 'lacks': 8196,\n",
              " 'internal': 7675,\n",
              " 'storage': 15779,\n",
              " 'issue': 7830,\n",
              " 'note': 10896,\n",
              " 'expand': 5104,\n",
              " 'gb': 6064,\n",
              " 'microsd': 9164,\n",
              " 'card': 2140,\n",
              " 'change': 2305,\n",
              " 'introduce': 7713,\n",
              " 'android': 602,\n",
              " 'lollipop': 8595,\n",
              " 'allow': 450,\n",
              " 'apps': 775,\n",
              " 'acces': 76,\n",
              " 'app': 722,\n",
              " 'related': 13851,\n",
              " 'data': 3526,\n",
              " 'use': 17605,\n",
              " 'lot': 8636,\n",
              " 'limit': 8465,\n",
              " 'mind': 9225,\n",
              " 'noveral': 10949,\n",
              " 'write': 18448,\n",
              " 'review': 14147,\n",
              " 'sept': 14745,\n",
              " 'google': 6296,\n",
              " 'days': 3549,\n",
              " 'announce': 633,\n",
              " 'hold': 6918,\n",
              " 'release': 13860,\n",
              " 'natively': 9786,\n",
              " 'preloaded': 12952,\n",
              " 'clear': 2530,\n",
              " 'blu': 1602,\n",
              " 'excellent': 5018,\n",
              " 'totally': 16794,\n",
              " 'stunner': 15873,\n",
              " 'best': 1427,\n",
              " 'value': 17679,\n",
              " 'money': 9408,\n",
              " 'performance': 12386,\n",
              " 'plus': 12704,\n",
              " 'come': 2696,\n",
              " 'unlock': 17397,\n",
              " 'amaze': 519,\n",
              " 'crystal': 3363,\n",
              " 'look': 8607,\n",
              " 'samsung': 14436,\n",
              " 'phones': 12498,\n",
              " 'nqualcom': 11066,\n",
              " 'snapdragon': 15262,\n",
              " 'processor': 13091,\n",
              " 'snappy': 15268,\n",
              " 'intel': 7630,\n",
              " 'asus': 941,\n",
              " 'zenfone': 18632,\n",
              " 'mediatek': 9016,\n",
              " 'close': 2565,\n",
              " 'ni': 10468,\n",
              " 'buy': 1994,\n",
              " 'gift': 6151,\n",
              " 'wrong': 18456,\n",
              " 'product': 13105,\n",
              " 'fast': 5343,\n",
              " 'beautiful': 1325,\n",
              " 'thin': 16546,\n",
              " 'elegant': 4604,\n",
              " 'afortable': 318,\n",
              " 'powerful': 12869,\n",
              " 'fluid': 5665,\n",
              " 'little': 8524,\n",
              " 'lag': 8206,\n",
              " 'play': 12655,\n",
              " 'game': 6021,\n",
              " 'type': 17124,\n",
              " 'multitasking': 9578,\n",
              " 'expert': 5148,\n",
              " 'happen': 6621,\n",
              " 'switch': 16151,\n",
              " 'core': 3123,\n",
              " 'single': 15033,\n",
              " 'ram': 13476,\n",
              " 'problem': 13074,\n",
              " 'bluetooth': 1609,\n",
              " 'speakers': 15455,\n",
              " 'sound': 15405,\n",
              " 'bite': 1508,\n",
              " 'distort': 4150,\n",
              " 'months': 9428,\n",
              " 'srcatch': 15604,\n",
              " 'doe': 4209,\n",
              " 'drop': 4358,\n",
              " 'time': 16659,\n",
              " 'todo': 16731,\n",
              " 'muy': 9609,\n",
              " 'bien': 1466,\n",
              " 'gusto': 6530,\n",
              " 'fue': 5922,\n",
              " 'que': 13392,\n",
              " 'pedi': 12316,\n",
              " 'llego': 8540,\n",
              " 'tiempo': 16642,\n",
              " 'excelente': 5006,\n",
              " 'recomendando': 13677,\n",
              " 'nsaludos': 11155,\n",
              " 'desde': 3804,\n",
              " 'valencia': 17670,\n",
              " 'venezuela': 17733,\n",
              " 'absolutely': 42,\n",
              " 'date': 3532,\n",
              " 'excite': 5043,\n",
              " 'fingerprint': 5505,\n",
              " 'scanner': 14519,\n",
              " 'huawei': 7051,\n",
              " 'make': 8807,\n",
              " 'accurate': 108,\n",
              " 'scanners': 14520,\n",
              " 'tel': 16369,\n",
              " 'flawles': 5608,\n",
              " 'build': 1917,\n",
              " 'quality': 13379,\n",
              " 'feel': 5409,\n",
              " 'solid': 15342,\n",
              " 'expensive': 5132,\n",
              " 'meticulously': 9123,\n",
              " 'craft': 3239,\n",
              " 'job': 7946,\n",
              " 'wel': 18112,\n",
              " 'purists': 13309,\n",
              " 'experience': 5139,\n",
              " 'hardware': 6647,\n",
              " 'intelligent': 7632,\n",
              " 'software': 15327,\n",
              " 'superb': 16022,\n",
              " 'device': 3874,\n",
              " 'get': 6126,\n",
              " 'lightning': 8441,\n",
              " 'deal': 3568,\n",
              " 'internet': 7682,\n",
              " 'connection': 2947,\n",
              " 'enough': 4760,\n",
              " 'lte': 8686,\n",
              " 'perfect': 12371,\n",
              " 'battery': 1276,\n",
              " 'update': 17545,\n",
              " 'greatly': 6426,\n",
              " 'appreciate': 762,\n",
              " 'upgrade': 17553,\n",
              " 'rare': 13500,\n",
              " 'rol': 14269,\n",
              " 'quick': 13410,\n",
              " 'stock': 15764,\n",
              " 'tacky': 16205,\n",
              " 'skin': 15085,\n",
              " 'bloatware': 1574,\n",
              " 'memory': 9066,\n",
              " 'expandable': 5106,\n",
              " 'motorola': 9483,\n",
              " 'hit': 6887,\n",
              " 'nail': 9690,\n",
              " 'head': 6716,\n",
              " 'super': 16019,\n",
              " 'heat': 6749,\n",
              " 'sometimes': 15368,\n",
              " 'reset': 14022,\n",
              " 'rear': 13582,\n",
              " 'camera': 2075,\n",
              " 'error': 4848,\n",
              " 'nd': 10046,\n",
              " 'knock': 8153,\n",
              " 'hand': 6586,\n",
              " 'severly': 14789,\n",
              " 'break': 1783,\n",
              " 'woked': 18334,\n",
              " 'couple': 3195,\n",
              " 'touch': 16798,\n",
              " 'digitizer': 3957,\n",
              " 'intermittenly': 7669,\n",
              " 'receive': 13626,\n",
              " 'edge': 4534,\n",
              " 'return': 14129,\n",
              " 'awsome': 1106,\n",
              " 'love': 8655,\n",
              " 'amazon': 526,\n",
              " 'send': 14706,\n",
              " 'local': 8558,\n",
              " 'store': 15780,\n",
              " 'gen': 6083,\n",
              " 'moto': 9475,\n",
              " 'wife': 18223,\n",
              " 'original': 11936,\n",
              " 'st': 15620,\n",
              " 'generation': 6087,\n",
              " 'faster': 5346,\n",
              " 'negative': 10155,\n",
              " 'detail': 3844,\n",
              " 'wonderful': 18344,\n",
              " 'wireles': 18277,\n",
              " 'charge': 2324,\n",
              " 'capability': 2113,\n",
              " 'pretty': 13006,\n",
              " 'decent': 3603,\n",
              " 'on': 11790,\n",
              " 'board': 1626,\n",
              " 'unfortunately': 17318,\n",
              " 'significant': 14978,\n",
              " 'problems': 13078,\n",
              " 'absurdly': 50,\n",
              " 'flimsy': 5633,\n",
              " 'glass': 6202,\n",
              " 'glas': 6201,\n",
              " 'increase': 7390,\n",
              " 'breakable': 1784,\n",
              " 'surface': 16076,\n",
              " 'zero': 18643,\n",
              " 'chance': 2303,\n",
              " 'lucky': 8698,\n",
              " 'slicknes': 15139,\n",
              " 'annoy': 636,\n",
              " 'anxiety': 673,\n",
              " 'producing': 13104,\n",
              " 'lean': 8303,\n",
              " 'share': 14823,\n",
              " 'watch': 18027,\n",
              " 'video': 17811,\n",
              " 'numerous': 11463,\n",
              " 'friction': 5856,\n",
              " 'pocket': 12717,\n",
              " 'sit': 15051,\n",
              " 'bend': 1408,\n",
              " 'safe': 14393,\n",
              " 'whole': 18191,\n",
              " 'front': 5891,\n",
              " 'is': 7810,\n",
              " 'the': 16490,\n",
              " 'concept': 2869,\n",
              " 'awkwardly': 1101,\n",
              " 'bottom': 1726,\n",
              " 'aligned': 434,\n",
              " 'programs': 13135,\n",
              " 'thinnes': 16556,\n",
              " 'useles': 17615,\n",
              " 'fragility': 5806,\n",
              " 'okay': 11764,\n",
              " 'lovely': 8660,\n",
              " 'wear': 18073,\n",
              " 'pants': 12187,\n",
              " 'dumb': 4410,\n",
              " 'bulgy': 1933,\n",
              " 'confidence': 2908,\n",
              " 'shatter': 14833,\n",
              " 'volume': 17909,\n",
              " 'control': 3057,\n",
              " 'horrible': 6983,\n",
              " 'pop': 12784,\n",
              " 'up': 17539,\n",
              " 'click': 2543,\n",
              " 'listen': 8502,\n",
              " 'music': 9598,\n",
              " 'audible': 995,\n",
              " 'level': 8383,\n",
              " 'major': 8804,\n",
              " 'distraction': 4154,\n",
              " 'drive': 4340,\n",
              " 'pain': 12141,\n",
              " 'walk': 17964,\n",
              " 'outside': 12022,\n",
              " 'cold': 2646,\n",
              " 'gloves': 6228,\n",
              " 'disable': 4009,\n",
              " 'extensive': 5196,\n",
              " 'research': 14008,\n",
              " 'line': 8472,\n",
              " 'completely': 2815,\n",
              " 'disagre': 4013,\n",
              " 'picture': 12546,\n",
              " 'try': 17035,\n",
              " 'think': 16550,\n",
              " 'pics': 12543,\n",
              " 'black': 1518,\n",
              " 'able': 22,\n",
              " 'slow': 15176,\n",
              " 'laggy': 8211,\n",
              " 'blackberry': 1520,\n",
              " 'leap': 8305,\n",
              " 'busines': 1973,\n",
              " 'bar': 1210,\n",
              " 'signal': 14973,\n",
              " 'strength': 15820,\n",
              " 'barely': 1219,\n",
              " 'forget': 5740,\n",
              " 'cal': 2038,\n",
              " 'connect': 2943,\n",
              " 'access': 80,\n",
              " 'literally': 8513,\n",
              " 'waste': 18023,\n",
              " 'crap': 3251,\n",
              " 'warranty': 18008,\n",
              " 'exchange': 5041,\n",
              " 'mention': 9077,\n",
              " 'trip': 16985,\n",
              " 'tennesse': 16419,\n",
              " 'kentucky': 8055,\n",
              " 'coverage': 3211,\n",
              " 'friend': 5862,\n",
              " 'move': 9503,\n",
              " 'iphone': 7766,\n",
              " 'cel': 2243,\n",
              " 'company': 2761,\n",
              " 'stick': 15735,\n",
              " 'exelente': 5074,\n",
              " 'tuf': 17053,\n",
              " 'worry': 18399,\n",
              " 'thank': 16477,\n",
              " 'condition': 2886,\n",
              " 'brand': 1769,\n",
              " 'origional': 11940,\n",
              " 'box': 1744,\n",
              " 'headphones': 6725,\n",
              " 'cjarger': 2492,\n",
              " 'dead': 3563,\n",
              " 'week': 18098,\n",
              " 'awesome': 1092,\n",
              " 'replace': 13957,\n",
              " 'defective': 3656,\n",
              " 'apparent': 725,\n",
              " 'reason': 13587,\n",
              " 'swap': 16117,\n",
              " 'answer': 653,\n",
              " 'course': 3201,\n",
              " 'mean': 8987,\n",
              " 'replacement': 13960,\n",
              " 'galaxy': 6012,\n",
              " 'fan': 5306,\n",
              " 'wal': 17962,\n",
              " 'paper': 12190,\n",
              " 'contact': 3015,\n",
              " 'etc': 4918,\n",
              " 'automatically': 1039,\n",
              " 'activate': 148,\n",
              " 'overal': 12037,\n",
              " 'actual': 163,\n",
              " 'dislike': 4083,\n",
              " 'burn': 1964,\n",
              " 'hel': 6783,\n",
              " 'compare': 2770,\n",
              " 'reliable': 13866,\n",
              " 'skeptical': 15072,\n",
              " 'recomendable': 13673,\n",
              " 'vibrant': 17799,\n",
              " 'disappoint': 4022,\n",
              " 'expect': 5118,\n",
              " 'mah': 8779,\n",
              " 'batteries': 1275,\n",
              " 'comparable': 2764,\n",
              " 'trust': 17027,\n",
              " 'cheap': 2346,\n",
              " 'gues': 6504,\n",
              " 'flaw': 5607,\n",
              " 'purchase': 13290,\n",
              " 'choose': 2429,\n",
              " 'else': 4632,\n",
              " 'windows': 18257,\n",
              " 'kinda': 8107,\n",
              " 'woman': 18340,\n",
              " 'commit': 2735,\n",
              " 'age': 333,\n",
              " 'tech': 16315,\n",
              " 'challenge': 2296,\n",
              " 'master': 8923,\n",
              " 'ago': 354,\n",
              " 'learn': 8308,\n",
              " 'texting': 16460,\n",
              " 'task': 16274,\n",
              " 'key': 8063,\n",
              " 'stroke': 15840,\n",
              " 'accomplish': 97,\n",
              " 'huge': 7061,\n",
              " 'eye': 5227,\n",
              " 'primary': 13032,\n",
              " 'keep': 8049,\n",
              " 'prefer': 12932,\n",
              " 'intuitive': 7719,\n",
              " 'nthe': 11370,\n",
              " 'appear': 731,\n",
              " 'please': 12675,\n",
              " 'extent': 5198,\n",
              " 'tutor': 17084,\n",
              " 'currently': 3412,\n",
              " 'prepay': 12972,\n",
              " 'washington': 18018,\n",
              " 'transfer': 16893,\n",
              " 'straight': 15791,\n",
              " 'talk': 16236,\n",
              " 'claimed': 2497,\n",
              " 'unable': 17183,\n",
              " 'status': 15698,\n",
              " 'see': 14659,\n",
              " 'fantastic': 5321,\n",
              " 'it': 7837,\n",
              " 'nit': 10577,\n",
              " 'properly': 13175,\n",
              " 'enjoy': 4751,\n",
              " 'minute': 9261,\n",
              " 'day': 3545,\n",
              " 'inlaws': 7524,\n",
              " 'jump': 7998,\n",
              " 'right': 14201,\n",
              " 'smartphones': 15215,\n",
              " 'elder': 4593,\n",
              " 'people': 12350,\n",
              " 'fine': 5497,\n",
              " 'external': 5201,\n",
              " 'charger': 2327,\n",
              " 'extra': 5206,\n",
              " 'pros': 13189,\n",
              " 'nblazing': 9869,\n",
              " 'speed': 15487,\n",
              " 'nincredible': 10533,\n",
              " 'pixel': 12599,\n",
              " 'density': 3753,\n",
              " 'you': 18585,\n",
              " 'nnice': 10780,\n",
              " 'customizability': 3433,\n",
              " 'home': 6936,\n",
              " 'menu': 9080,\n",
              " 'buttons': 1990,\n",
              " 'nawesome': 9819,\n",
              " 'actually': 166,\n",
              " 'focus': 5682,\n",
              " 'ncamera': 9925,\n",
              " 'shots': 14908,\n",
              " 'cool': 3096,\n",
              " 'ncons': 10008,\n",
              " 'nca': 9915,\n",
              " 'remove': 13910,\n",
              " 'nno': 10783,\n",
              " 'removable': 13908,\n",
              " 'slot': 15173,\n",
              " 'trouble': 17004,\n",
              " 'star': 15666,\n",
              " 'round': 14315,\n",
              " 'kid': 8091,\n",
              " 'hum': 7068,\n",
              " 'trash': 16925,\n",
              " 'bad': 1155,\n",
              " 'samsun': 14435,\n",
              " 'hope': 6967,\n",
              " 'help': 6793,\n",
              " 'decision': 3618,\n",
              " 'spend': 15502,\n",
              " 'recommend': 13688,\n",
              " 'weeks': 18102,\n",
              " 'gray': 6405,\n",
              " 'yes': 18561,\n",
              " 'image': 7223,\n",
              " 'awful': 1096,\n",
              " 'social': 15307,\n",
              " 'email': 4636,\n",
              " 'poor': 12781,\n",
              " 'luck': 8694,\n",
              " 'apn': 714,\n",
              " 'set': 14773,\n",
              " 'straighttalk': 15794,\n",
              " 'consequently': 2970,\n",
              " 'frequently': 5853,\n",
              " 'stall': 15647,\n",
              " 'buggy': 1914,\n",
              " 'nearly': 10119,\n",
              " 'touchwiz': 16813,\n",
              " 'pair': 12150,\n",
              " 'marshmallow': 8908,\n",
              " 'tone': 16758,\n",
              " 'cartoonish': 2184,\n",
              " 'predecessors': 12916,\n",
              " 'multi': 9560,\n",
              " 'tasking': 16277,\n",
              " 'sortable': 15398,\n",
              " 'drawer': 4327,\n",
              " 'specs': 15475,\n",
              " 'consider': 2975,\n",
              " 'nexus': 10280,\n",
              " 'manageable': 8831,\n",
              " 'panel': 12175,\n",
              " 'gimmick': 6165,\n",
              " 'seamles': 14633,\n",
              " 'launch': 8269,\n",
              " 'useful': 17612,\n",
              " 'news': 10251,\n",
              " 'tool': 16766,\n",
              " 'info': 7483,\n",
              " 've': 17712,\n",
              " 'eventually': 4945,\n",
              " 'backup': 1149,\n",
              " 'daily': 3485,\n",
              " 'worth': 18407,\n",
              " 'frankly': 5817,\n",
              " 'oddly': 11705,\n",
              " 'materials': 8938,\n",
              " 'aluminum': 508,\n",
              " 'slippery': 15162,\n",
              " 'slap': 15113,\n",
              " 'ugly': 17154,\n",
              " 'practical': 12886,\n",
              " 'unique': 17368,\n",
              " 'design': 3809,\n",
              " 'color': 2668,\n",
              " 'ice': 7137,\n",
              " 'flashy': 5596,\n",
              " 'fit': 5549,\n",
              " 'bil': 1481,\n",
              " 'con': 2862,\n",
              " 'bug': 1909,\n",
              " 'fun': 5942,\n",
              " 'greatest': 6422,\n",
              " 'positive': 12826,\n",
              " 'despite': 3832,\n",
              " 'sensor': 14727,\n",
              " 'handy': 6611,\n",
              " 'pun': 13272,\n",
              " 'intended': 7635,\n",
              " 'headphone': 6723,\n",
              " 'jack': 7871,\n",
              " 'hate': 6679,\n",
              " 'prone': 13165,\n",
              " 'tangled': 16255,\n",
              " 'especially': 4867,\n",
              " 'low': 8666,\n",
              " 'light': 8433,\n",
              " 'simplistic': 15015,\n",
              " 'rarely': 13501,\n",
              " 'mes': 9100,\n",
              " 'settings': 14780,\n",
              " 'power': 12862,\n",
              " 'users': 17622,\n",
              " 'sharp': 14826,\n",
              " 'bright': 1819,\n",
              " 'daylight': 3548,\n",
              " 'touchscreen': 16809,\n",
              " 'unresponsive': 17473,\n",
              " 'edges': 4537,\n",
              " 'mis': 9275,\n",
              " 'motion': 9469,\n",
              " 'wave': 18045,\n",
              " 'remedy': 13890,\n",
              " 'instal': 7581,\n",
              " 'wakeup': 17960,\n",
              " 'elegantly': 4605,\n",
              " 'ambient': 533,\n",
              " 'active': 153,\n",
              " 'brief': 1816,\n",
              " 'flash': 5586,\n",
              " 'times': 16668,\n",
              " 'tap': 16261,\n",
              " 'hop': 6966,\n",
              " 'habit': 6543,\n",
              " 'yet': 18566,\n",
              " 'swipe': 16146,\n",
              " 'gesture': 6124,\n",
              " 'button': 1988,\n",
              " 'fire': 5521,\n",
              " 'alternate': 492,\n",
              " 'launchers': 8271,\n",
              " 'launcher': 8270,\n",
              " 'half': 6568,\n",
              " 'cost': 3161,\n",
              " 'virtually': 17850,\n",
              " 'function': 5949,\n",
              " 'pay': 12281,\n",
              " 'ron': 14287,\n",
              " 'nupdate': 11483,\n",
              " 'glad': 6196,\n",
              " 'mobile': 9348,\n",
              " 'life': 8416,\n",
              " 'somewhat': 15369,\n",
              " 'package': 12126,\n",
              " 'brown': 1861,\n",
              " 'bag': 1164,\n",
              " 'roll': 14272,\n",
              " 'inside': 7560,\n",
              " 'smuggle': 15252,\n",
              " 'illegally': 7210,\n",
              " 'cover': 3210,\n",
              " 'unattached': 17194,\n",
              " 'luckily': 8696,\n",
              " 'spare': 15440,\n",
              " 'chargers': 2328,\n",
              " 'house': 7014,\n",
              " 'attempt': 976,\n",
              " 'representative': 13980,\n",
              " 'assist': 914,\n",
              " 'activation': 151,\n",
              " 'inform': 7484,\n",
              " 'embarrass': 4642,\n",
              " 'finally': 5488,\n",
              " 'mother': 9465,\n",
              " 'technology': 16339,\n",
              " 'smartphone': 15213,\n",
              " 'moment': 9395,\n",
              " 'functional': 5950,\n",
              " 'wish': 18291,\n",
              " 'shop': 14884,\n",
              " 'vendors': 17731,\n",
              " 'offer': 11724,\n",
              " 'options': 11893,\n",
              " 'junk': 8006,\n",
              " 'friendly': 5865,\n",
              " 'equally': 4819,\n",
              " 'mid': 9173,\n",
              " 'dollars': 4223,\n",
              " 'beware': 1450,\n",
              " 'admit': 241,\n",
              " 'lead': 8294,\n",
              " 'drain': 4312,\n",
              " 'follow': 5694,\n",
              " 'shut': 14937,\n",
              " 'leave': 8316,\n",
              " 'customers': 3431,\n",
              " 'lock': 8567,\n",
              " 'bootloop': 1697,\n",
              " 'acknowledge': 129,\n",
              " 'communications': 2747,\n",
              " 'directly': 3998,\n",
              " 'immediate': 7248,\n",
              " 'nightmare': 10498,\n",
              " 'proces': 13086,\n",
              " 'take': 16223,\n",
              " 'rep': 13932,\n",
              " 'freely': 5837,\n",
              " 'encounter': 4715,\n",
              " 'tell': 16392,\n",
              " 'aware': 1085,\n",
              " 'fix': 5556,\n",
              " 'unlike': 17389,\n",
              " 'apple': 744,\n",
              " 'physical': 12531,\n",
              " 'loaner': 8553,\n",
              " 'angry': 619,\n",
              " 'fiasco': 5444,\n",
              " 'owner': 12112,\n",
              " 'landline': 8223,\n",
              " 'communicate': 2745,\n",
              " 'medical': 9018,\n",
              " 'professionals': 13120,\n",
              " 'uber': 17138,\n",
              " 'story': 15787,\n",
              " 'short': 14893,\n",
              " 'true': 17017,\n",
              " 'involve': 7747,\n",
              " 'satisfy': 14482,\n",
              " 'exactly': 4985,\n",
              " 'son': 15374,\n",
              " 'own': 12110,\n",
              " 'thousands': 16587,\n",
              " 'devices': 3875,\n",
              " 'favorite': 5371,\n",
              " 'gold': 6267,\n",
              " 'beat': 1319,\n",
              " 'fairly': 5278,\n",
              " 'run': 14362,\n",
              " 'strong': 15843,\n",
              " 'nougat': 10934,\n",
              " 'droid': 4349,\n",
              " 'nicer': 10475,\n",
              " 'throw': 16609,\n",
              " 'player': 12659,\n",
              " 'complaints': 2808,\n",
              " 'producto': 13111,\n",
              " 'state': 15687,\n",
              " 'happy': 6631,\n",
              " 'future': 5983,\n",
              " 'count': 3179,\n",
              " 'stupid': 15877,\n",
              " 'nut': 11505,\n",
              " 'crazy': 3267,\n",
              " 'accident': 88,\n",
              " 'gear': 6072,\n",
              " 'total': 16792,\n",
              " 'view': 17823,\n",
              " 'garbage': 6037,\n",
              " 'reality': 13569,\n",
              " 'hard': 6634,\n",
              " 'funny': 5963,\n",
              " 'reboot': 13600,\n",
              " 'stable': 15629,\n",
              " 'top': 16774,\n",
              " 'usb': 17602,\n",
              " 'cable': 2023,\n",
              " 'fasst': 5342,\n",
              " 'mfg': 9134,\n",
              " 'wouldnt': 18416,\n",
              " 'fone': 5700,\n",
              " 'this': 16563,\n",
              " 'real': 13563,\n",
              " 'start': 15674,\n",
              " 'freeze': 5843,\n",
              " 'ehen': 4576,\n",
              " 'plau': 12653,\n",
              " 'audio': 1000,\n",
              " 'static': 15691,\n",
              " 'screech': 14583,\n",
              " 'damn': 3498,\n",
              " 'nbut': 9904,\n",
              " 'terrible': 16436,\n",
              " 'finger': 5501,\n",
              " 'zoom': 18672,\n",
              " 'throughout': 16606,\n",
              " 'believe': 1389,\n",
              " 'highly': 6855,\n",
              " 'advance': 265,\n",
              " 'user': 17619,\n",
              " 'absolsutely': 40,\n",
              " 'lighten': 8436,\n",
              " 'ship': 14866,\n",
              " 'friday': 5858,\n",
              " 'morning': 9448,\n",
              " 'monday': 9406,\n",
              " 'husband': 7099,\n",
              " 'boughthere': 1734,\n",
              " 'five': 5555,\n",
              " 'surprise': 16089,\n",
              " 'migrate': 9196,\n",
              " 'smart': 15201,\n",
              " 'loud': 8641,\n",
              " 'teenager': 16360,\n",
              " 'tinny': 16682,\n",
              " 'letter': 8380,\n",
              " 'allot': 448,\n",
              " 'typos': 17131,\n",
              " 'softbricked': 15321,\n",
              " 'inch': 7343,\n",
              " 'soft': 15320,\n",
              " 'chin': 2406,\n",
              " 'maybe': 8969,\n",
              " 'last': 8247,\n",
              " 'stay': 15700,\n",
              " 'sync': 16179,\n",
              " 'reception': 13636,\n",
              " 'die': 3924,\n",
              " 'massive': 8921,\n",
              " 'worst': 18405,\n",
              " 'speaker': 15451,\n",
              " 'hear': 6737,\n",
              " 'restart': 14078,\n",
              " 'heavy': 6760,\n",
              " 'serious': 14757,\n",
              " 'midrange': 9184,\n",
              " 'regular': 13826,\n",
              " 'brother': 1856,\n",
              " 'moon': 9431,\n",
              " 'truly': 17022,\n",
              " 'pelo': 12330,\n",
              " 'handsome': 6608,\n",
              " 'sturdy': 15883,\n",
              " 'vivid': 17874,\n",
              " 'brightnes': 1826,\n",
              " 'easy': 4504,\n",
              " 'night': 10494,\n",
              " 'ok': 11763,\n",
              " 'icon': 7142,\n",
              " 'option': 11890,\n",
              " 'example': 4991,\n",
              " 'map': 8867,\n",
              " 'recent': 13632,\n",
              " 'rid': 14189,\n",
              " 'responsive': 14071,\n",
              " 'categories': 2217,\n",
              " 'firmer': 5531,\n",
              " 'require': 13996,\n",
              " 'ncompared': 9995,\n",
              " 'studio': 15863,\n",
              " 'past': 12255,\n",
              " 'lethargic': 8379,\n",
              " 'factor': 5263,\n",
              " 'cumbersome': 3391,\n",
              " 'standard': 15654,\n",
              " 'operations': 11848,\n",
              " 'scroll': 14602,\n",
              " 'selecting': 14682,\n",
              " 'slightly': 15149,\n",
              " 'entry': 4788,\n",
              " 'dul': 4406,\n",
              " 'sluggish': 15187,\n",
              " 'daughter': 3537,\n",
              " 'rip': 14224,\n",
              " 'rag': 13466,\n",
              " 'drag': 4308,\n",
              " 'floor': 5646,\n",
              " 'seal': 14629,\n",
              " 'plastic': 12640,\n",
              " 'accessories': 86,\n",
              " 'include': 7356,\n",
              " 'upset': 17573,\n",
              " 'sel': 14675,\n",
              " 'complete': 2813,\n",
              " 'shape': 14822,\n",
              " 'seller': 14694,\n",
              " 'probably': 13070,\n",
              " 'handle': 6600,\n",
              " 'damage': 3493,\n",
              " 'par': 12195,\n",
              " 'plan': 12629,\n",
              " 'unlimited': 17392,\n",
              " 'mo': 9342,\n",
              " 'downside': 4288,\n",
              " 'jelly': 7918,\n",
              " 'bean': 1314,\n",
              " 'usual': 17634,\n",
              " 'item': 7843,\n",
              " 'everythink': 4965,\n",
              " 'compatible': 2784,\n",
              " 'approve': 771,\n",
              " 'pig': 12552,\n",
              " 'bell': 1392,\n",
              " 'whistle': 18177,\n",
              " 'add': 193,\n",
              " 'collection': 2658,\n",
              " 'plenty': 12684,\n",
              " 'videos': 17816,\n",
              " 'stingy': 15753,\n",
              " 'stream': 15812,\n",
              " 'unles': 17386,\n",
              " 'wifi': 18227,\n",
              " 'excelent': 5005,\n",
              " 'impress': 7296,\n",
              " 'outlast': 12000,\n",
              " 'hours': 7013,\n",
              " 'slim': 15150,\n",
              " 'suggest': 15981,\n",
              " 'child': 2398,\n",
              " 'crack': 3230,\n",
              " 'expansion': 5113,\n",
              " 'outdoors': 11991,\n",
              " 'durable': 4438,\n",
              " 'delicate': 3715,\n",
              " 'buen': 1898,\n",
              " 'live': 8527,\n",
              " 'can': 2089,\n",
              " 'world': 18391,\n",
              " 'customization': 3435,\n",
              " 'force': 5722,\n",
              " 'microsoft': 9169,\n",
              " 'products': 13113,\n",
              " 'zune': 18682,\n",
              " 'bing': 1491,\n",
              " 'ect': 4527,\n",
              " 'excelentes': 5008,\n",
              " 'bueno': 1903,\n",
              " 'well': 18115,\n",
              " 'built': 1924,\n",
              " 'attractive': 989,\n",
              " 'realize': 13572,\n",
              " 'decide': 3613,\n",
              " 'wait': 17952,\n",
              " 'web': 18081,\n",
              " 'nhowever': 10460,\n",
              " 'stand': 15652,\n",
              " 'wildly': 18240,\n",
              " 'menus': 9083,\n",
              " 'homescreens': 6943,\n",
              " 'exceptional': 5034,\n",
              " 'moderate': 9370,\n",
              " 'usage': 17597,\n",
              " 'estimates': 4908,\n",
              " 'there': 16511,\n",
              " 'ton': 16757,\n",
              " 'icons': 7146,\n",
              " 'lockscreen': 8573,\n",
              " 'widgets': 18217,\n",
              " 'of': 11717,\n",
              " 'champagne': 2301,\n",
              " 'nicely': 10474,\n",
              " 'naked': 9695,\n",
              " 'none': 10842,\n",
              " 'drawback': 4325,\n",
              " 'contrast': 3050,\n",
              " 'sunlight': 16008,\n",
              " 'dark': 3513,\n",
              " 'normal': 10876,\n",
              " 'noticeable': 10915,\n",
              " 'nedit': 10141,\n",
              " 'comment': 2723,\n",
              " 'wonder': 18343,\n",
              " 'honestly': 6949,\n",
              " 'simplify': 15013,\n",
              " 'customize': 3437,\n",
              " 'provide': 13211,\n",
              " 'tweak': 17093,\n",
              " 'root': 14293,\n",
              " 'jailbreaking': 7883,\n",
              " 'realm': 13575,\n",
              " 'customizations': 3436,\n",
              " 'delivery': 3727,\n",
              " 'strongest': 15845,\n",
              " 'smartest': 15206,\n",
              " 'meet': 9030,\n",
              " 'expectation': 5120,\n",
              " 'telephone': 16384,\n",
              " 'nexcellent': 10259,\n",
              " 'team': 16306,\n",
              " 'arrive': 850,\n",
              " 'stipulate': 15759,\n",
              " 'deliver': 3722,\n",
              " 'law': 8274,\n",
              " 'though': 16578,\n",
              " 'yourself': 18593,\n",
              " 'contract': 3046,\n",
              " 'minutes': 9262,\n",
              " 'nthere': 11374,\n",
              " 'apparently': 726,\n",
              " 'website': 18089,\n",
              " 'cancel': 2092,\n",
              " 'lines': 8476,\n",
              " 'ncreepy': 10033,\n",
              " 'leech': 8325,\n",
              " 'france': 5815,\n",
              " 'hong': 6954,\n",
              " 'kong': 8165,\n",
              " 'india': 7415,\n",
              " 'nwel': 11558,\n",
              " 'cellphone': 2252,\n",
              " 'recently': 13633,\n",
              " 'mate': 8934,\n",
              " 'pleasantly': 12674,\n",
              " 'crisp': 3308,\n",
              " 'towards': 16825,\n",
              " 'preservation': 12986,\n",
              " 'average': 1067,\n",
              " 'megapixels': 9041,\n",
              " 'wash': 18015,\n",
              " 'bring': 1833,\n",
              " 'saturation': 14489,\n",
              " ...}"
            ]
          },
          "metadata": {},
          "execution_count": 19
        }
      ]
    },
    {
      "cell_type": "code",
      "source": [
        "# transforming the train and test datasets\n",
        "X_train_transformed = vect.transform(X_train)\n",
        "X_test_transformed = vect.transform(X_test)\n"
      ],
      "metadata": {
        "id": "afHEdAZDEsEj"
      },
      "execution_count": 20,
      "outputs": []
    },
    {
      "cell_type": "code",
      "source": [
        "# note that the type is transformed (sparse) matrix\n",
        "print(type(X_train_transformed))\n",
        "print(X_train_transformed)"
      ],
      "metadata": {
        "colab": {
          "base_uri": "https://localhost:8080/"
        },
        "id": "BhxZihSJE-IP",
        "outputId": "f804f9ca-ba7e-42b0-a0e5-9609582b6b23"
      },
      "execution_count": 21,
      "outputs": [
        {
          "output_type": "stream",
          "name": "stdout",
          "text": [
            "<class 'scipy.sparse._csr.csr_matrix'>\n",
            "  (0, 5395)\t1\n",
            "  (0, 6280)\t1\n",
            "  (1, 10472)\t1\n",
            "  (2, 6280)\t1\n",
            "  (3, 5014)\t1\n",
            "  (4, 9426)\t1\n",
            "  (4, 12485)\t1\n",
            "  (4, 15771)\t1\n",
            "  (5, 76)\t1\n",
            "  (5, 277)\t1\n",
            "  (5, 450)\t1\n",
            "  (5, 602)\t6\n",
            "  (5, 633)\t1\n",
            "  (5, 722)\t1\n",
            "  (5, 747)\t2\n",
            "  (5, 775)\t1\n",
            "  (5, 1056)\t1\n",
            "  (5, 1195)\t4\n",
            "  (5, 1440)\t1\n",
            "  (5, 1602)\t1\n",
            "  (5, 1894)\t2\n",
            "  (5, 2079)\t1\n",
            "  (5, 2140)\t2\n",
            "  (5, 2238)\t1\n",
            "  (5, 2258)\t1\n",
            "  :\t:\n",
            "  (20810, 14189)\t1\n",
            "  (20810, 15213)\t1\n",
            "  (20810, 15666)\t1\n",
            "  (20810, 16641)\t1\n",
            "  (20810, 17712)\t1\n",
            "  (20810, 18150)\t1\n",
            "  (20811, 6416)\t1\n",
            "  (20811, 13105)\t1\n",
            "  (20812, 10472)\t1\n",
            "  (20812, 16477)\t1\n",
            "  (20813, 1195)\t1\n",
            "  (20813, 1508)\t1\n",
            "  (20813, 1994)\t1\n",
            "  (20813, 2140)\t1\n",
            "  (20813, 2770)\t1\n",
            "  (20813, 3410)\t1\n",
            "  (20813, 6151)\t1\n",
            "  (20813, 6760)\t1\n",
            "  (20813, 7556)\t1\n",
            "  (20813, 9140)\t1\n",
            "  (20813, 9365)\t1\n",
            "  (20813, 9465)\t1\n",
            "  (20813, 11844)\t1\n",
            "  (20813, 14993)\t1\n",
            "  (20813, 17397)\t1\n"
          ]
        }
      ]
    },
    {
      "cell_type": "markdown",
      "source": [
        "# **Building and Evaluating Model**\n",
        "\n",
        "Model 1"
      ],
      "metadata": {
        "id": "1EWTfYKtFHsn"
      }
    },
    {
      "cell_type": "code",
      "source": [
        "# function to plot confusion matrix\n",
        "def plot_confusion_matrix(confusion_matrix):\n",
        "    group_names = ['True Neg','False Pos','False Neg','True Pos']\n",
        "    group_counts = [\"{0:0.0f}\".format(value) for value in\n",
        "                confusion_matrix.flatten()]\n",
        "\n",
        "    labels = [f\"{v1}\\n{v2}\" for v1, v2 in\n",
        "          zip(group_names,group_counts)]\n",
        "    labels = np.asarray(labels).reshape(2,2)\n",
        "    sns.heatmap(confusion_matrix, annot=labels, fmt='', cmap='Blues')\n",
        "    plt.title(\"Confusion matrix\")\n",
        "    plt.show()"
      ],
      "metadata": {
        "id": "AjZy_SXTFK2M"
      },
      "execution_count": 22,
      "outputs": []
    },
    {
      "cell_type": "code",
      "source": [
        "# training the NB model and making predictions\n",
        "from sklearn.naive_bayes import MultinomialNB\n",
        "mnb = MultinomialNB()\n",
        "\n",
        "# fit\n",
        "mnb.fit(X_train_transformed,y_train)\n",
        "\n",
        "#Applying the model on train set too\n",
        "y_pred_train = mnb.predict(X_train_transformed) # returns classes 0 and 1\n",
        "\n",
        "y_pred_proba_tr = mnb.predict_proba(X_train_transformed) # returns the probability of a review being positive\n",
        "\n",
        "# predict class\n",
        "y_pred_class = mnb.predict(X_test_transformed)\n",
        "\n",
        "# predict probabilities\n",
        "y_pred_proba = mnb.predict_proba(X_test_transformed)\n"
      ],
      "metadata": {
        "id": "bQz8QgTHFSpy"
      },
      "execution_count": 23,
      "outputs": []
    },
    {
      "cell_type": "code",
      "source": [
        "# printing  accuracy on train dataset\n",
        "from sklearn import metrics\n",
        "y_pred_train = mnb.predict(X_train_transformed)\n",
        "\n",
        "print (\"Accuracy on train dataset :\")\n",
        "metrics.accuracy_score( y_train, y_pred_train)"
      ],
      "metadata": {
        "colab": {
          "base_uri": "https://localhost:8080/"
        },
        "id": "qjk_D4uUFheZ",
        "outputId": "2f759d4b-d059-4360-8335-e9a9fea7ee08"
      },
      "execution_count": 24,
      "outputs": [
        {
          "output_type": "stream",
          "name": "stdout",
          "text": [
            "Accuracy on train dataset :\n"
          ]
        },
        {
          "output_type": "execute_result",
          "data": {
            "text/plain": [
              "0.8821466320745652"
            ]
          },
          "metadata": {},
          "execution_count": 24
        }
      ]
    },
    {
      "cell_type": "code",
      "source": [
        "# printing the  accuracy on test dataset\n",
        "from sklearn import metrics\n",
        "print (\"Accuracy on test dataset :\")\n",
        "metrics.accuracy_score(y_test, y_pred_class)"
      ],
      "metadata": {
        "colab": {
          "base_uri": "https://localhost:8080/"
        },
        "id": "vB7Wa4bWFm5O",
        "outputId": "da5ccf3e-b558-4b23-cc9d-009a0f248d4a"
      },
      "execution_count": 25,
      "outputs": [
        {
          "output_type": "stream",
          "name": "stdout",
          "text": [
            "Accuracy on test dataset :\n"
          ]
        },
        {
          "output_type": "execute_result",
          "data": {
            "text/plain": [
              "0.8630926646490849"
            ]
          },
          "metadata": {},
          "execution_count": 25
        }
      ]
    },
    {
      "cell_type": "markdown",
      "source": [
        "Confusion Matrix for Train Dataset"
      ],
      "metadata": {
        "id": "o1wfsH8PF9tv"
      }
    },
    {
      "cell_type": "code",
      "source": [
        "# confusion matrix\n",
        "confusion_train =metrics.confusion_matrix(y_train, y_pred_train)\n",
        "print(confusion_train)"
      ],
      "metadata": {
        "colab": {
          "base_uri": "https://localhost:8080/"
        },
        "id": "nN4RW8NhF-zA",
        "outputId": "36cb973d-2e22-49f8-dbe2-7edace650197"
      },
      "execution_count": 26,
      "outputs": [
        {
          "output_type": "stream",
          "name": "stdout",
          "text": [
            "[[ 3228  1892]\n",
            " [  561 15133]]\n"
          ]
        }
      ]
    },
    {
      "cell_type": "code",
      "source": [
        "# ploting confusion matrix\n",
        "plot_confusion_matrix(confusion_train)"
      ],
      "metadata": {
        "colab": {
          "base_uri": "https://localhost:8080/",
          "height": 457
        },
        "id": "2shtPF6bGKdk",
        "outputId": "e2c81ba2-826d-4589-feec-e7d8651267de"
      },
      "execution_count": 27,
      "outputs": [
        {
          "output_type": "display_data",
          "data": {
            "text/plain": [
              "<Figure size 640x480 with 2 Axes>"
            ],
            "image/png": "[encoded data removed]"
          },
          "metadata": {}
        }
      ]
    },
    {
      "cell_type": "markdown",
      "source": [
        "Confusion Matrix for Test Dataset"
      ],
      "metadata": {
        "id": "Uk4Hsta2ImYb"
      }
    },
    {
      "cell_type": "code",
      "source": [
        "# confusion matrix\n",
        "confusion_test =metrics.confusion_matrix(y_test, y_pred_class)\n",
        "print(confusion_test)"
      ],
      "metadata": {
        "colab": {
          "base_uri": "https://localhost:8080/"
        },
        "id": "xjfgpWLnIjdD",
        "outputId": "8f238218-3523-4efd-a03f-f9f7cf65c02c"
      },
      "execution_count": 28,
      "outputs": [
        {
          "output_type": "stream",
          "name": "stdout",
          "text": [
            "[[ 932  763]\n",
            " [ 187 5057]]\n"
          ]
        }
      ]
    },
    {
      "cell_type": "code",
      "source": [
        "# ploting confusion matrix\n",
        "plot_confusion_matrix(confusion_test)"
      ],
      "metadata": {
        "colab": {
          "base_uri": "https://localhost:8080/",
          "height": 457
        },
        "id": "r0OhnBKJIz3n",
        "outputId": "6aa32b56-0a5c-4c32-c32f-130aa381f1b1"
      },
      "execution_count": 29,
      "outputs": [
        {
          "output_type": "display_data",
          "data": {
            "text/plain": [
              "<Figure size 640x480 with 2 Axes>"
            ],
            "image/png": "[encoded data removed]"
          },
          "metadata": {}
        }
      ]
    },
    {
      "cell_type": "markdown",
      "source": [
        "Let's calculate other Matrics - Sensitivity, Specificity, Precision,Recall and F1 score for train and test dataset"
      ],
      "metadata": {
        "id": "QoXCQlVuGkpx"
      }
    },
    {
      "cell_type": "code",
      "source": [
        "# for train dataset\n",
        "TN_train = confusion_train[0, 0]\n",
        "FP_train = confusion_train[0, 1]\n",
        "FN_train = confusion_train[1, 0]\n",
        "TP_train = confusion_train[1, 1]\n"
      ],
      "metadata": {
        "id": "aPgKW7f8Gg9R"
      },
      "execution_count": 30,
      "outputs": []
    },
    {
      "cell_type": "code",
      "source": [
        "# for test datset\n",
        "TN_test = confusion_test[0, 0]\n",
        "FP_test = confusion_test[0, 1]\n",
        "FN_test = confusion_test[1, 0]\n",
        "TP_test = confusion_test[1, 1]\n",
        "\n"
      ],
      "metadata": {
        "id": "KbEg8_eJGq8_"
      },
      "execution_count": 31,
      "outputs": []
    },
    {
      "cell_type": "markdown",
      "source": [
        "Sensitivity Metrics"
      ],
      "metadata": {
        "id": "2U_q21hOhSET"
      }
    },
    {
      "cell_type": "code",
      "source": [
        "sensitivity_train = TP_train / float(FN_train + TP_train)\n",
        "sensitivity_test = TP_test / float(FN_test + TP_test)\n",
        "print(\"sensitivity on train dataset\",sensitivity_train)\n",
        "print(\"sensitivity on test dataset\",sensitivity_test)"
      ],
      "metadata": {
        "colab": {
          "base_uri": "https://localhost:8080/"
        },
        "id": "XbTyJucnGv7-",
        "outputId": "237c18ca-5d40-4f22-b5ce-2ed268475829"
      },
      "execution_count": 32,
      "outputs": [
        {
          "output_type": "stream",
          "name": "stdout",
          "text": [
            "sensitivity on train dataset 0.9642538549764241\n",
            "sensitivity on test dataset 0.9643401983218917\n"
          ]
        }
      ]
    },
    {
      "cell_type": "markdown",
      "source": [
        "Specificity Metrics"
      ],
      "metadata": {
        "id": "BYu9pFU2I9Gb"
      }
    },
    {
      "cell_type": "code",
      "source": [
        "specificity_train = TN_train / float(TN_train + FP_train)\n",
        "specificity_test = TN_test / float(TN_test + FP_test)\n",
        "print(\"specificity on train dataset\",specificity_train)\n",
        "print(\"specificity on train dataset\",specificity_test)"
      ],
      "metadata": {
        "colab": {
          "base_uri": "https://localhost:8080/"
        },
        "id": "M5Jrp5TLI-d9",
        "outputId": "1fd8e348-0e4b-40cd-8a1f-82d122949a61"
      },
      "execution_count": 33,
      "outputs": [
        {
          "output_type": "stream",
          "name": "stdout",
          "text": [
            "specificity on train dataset 0.63046875\n",
            "specificity on train dataset 0.5498525073746313\n"
          ]
        }
      ]
    },
    {
      "cell_type": "markdown",
      "source": [
        "Precision Metrics"
      ],
      "metadata": {
        "id": "ZcTlgyD7JFSa"
      }
    },
    {
      "cell_type": "code",
      "source": [
        "precision_train = TP_train / float(TP_train + FP_train)\n",
        "precision_test = TP_test / float(TP_test + FP_test)\n",
        "print(\"precision on train dataset\",precision_train)\n",
        "print(\"precision on test dataset\",precision_test)"
      ],
      "metadata": {
        "colab": {
          "base_uri": "https://localhost:8080/"
        },
        "id": "PG4wo-P7JGTg",
        "outputId": "3cf20910-ae67-4c05-e4c7-39b8c2c1269c"
      },
      "execution_count": 34,
      "outputs": [
        {
          "output_type": "stream",
          "name": "stdout",
          "text": [
            "precision on train dataset 0.8888693098384728\n",
            "precision on test dataset 0.8689003436426117\n"
          ]
        }
      ]
    },
    {
      "cell_type": "code",
      "source": [
        "print(\"F1 SCORE for train dataset :\",metrics.f1_score(y_train, y_pred_train))\n",
        "print(\"F1 SCORE for test dataset :\",metrics.f1_score(y_test, y_pred_class))"
      ],
      "metadata": {
        "colab": {
          "base_uri": "https://localhost:8080/"
        },
        "id": "swVvfDZkJKeh",
        "outputId": "e659c633-f048-4ea0-bbfe-d38985e9be53"
      },
      "execution_count": 35,
      "outputs": [
        {
          "output_type": "stream",
          "name": "stdout",
          "text": [
            "F1 SCORE for train dataset : 0.9250282710351783\n",
            "F1 SCORE for test dataset : 0.9141359363702096\n"
          ]
        }
      ]
    },
    {
      "cell_type": "markdown",
      "source": [
        "Recall Metrics"
      ],
      "metadata": {
        "id": "6fXFqANhJOPX"
      }
    },
    {
      "cell_type": "code",
      "source": [
        "print(\"RECALL SCORE on train dataset :\", metrics.recall_score(y_train, y_pred_train))\n",
        "print(\"RECALL SCORE on test dataset :\", metrics.recall_score(y_test, y_pred_class))"
      ],
      "metadata": {
        "colab": {
          "base_uri": "https://localhost:8080/"
        },
        "id": "12xk5i9FJv2-",
        "outputId": "35225149-1e87-4723-d035-a942532aa506"
      },
      "execution_count": 36,
      "outputs": [
        {
          "output_type": "stream",
          "name": "stdout",
          "text": [
            "RECALL SCORE on train dataset : 0.9642538549764241\n",
            "RECALL SCORE on test dataset : 0.9643401983218917\n"
          ]
        }
      ]
    },
    {
      "cell_type": "code",
      "source": [
        "y_pred_class"
      ],
      "metadata": {
        "colab": {
          "base_uri": "https://localhost:8080/"
        },
        "id": "f7ckfFXbJ3MM",
        "outputId": "eaa58349-cda6-4338-98eb-7711dd158b81"
      },
      "execution_count": 37,
      "outputs": [
        {
          "output_type": "execute_result",
          "data": {
            "text/plain": [
              "array([1, 1, 1, ..., 0, 1, 1])"
            ]
          },
          "metadata": {},
          "execution_count": 37
        }
      ]
    },
    {
      "cell_type": "code",
      "source": [
        "y_pred_proba"
      ],
      "metadata": {
        "colab": {
          "base_uri": "https://localhost:8080/"
        },
        "id": "TxX4ZimZJwrE",
        "outputId": "96e9f1bd-6ab5-495b-c616-44cc93ad9634"
      },
      "execution_count": 38,
      "outputs": [
        {
          "output_type": "execute_result",
          "data": {
            "text/plain": [
              "array([[2.45988277e-01, 7.54011723e-01],\n",
              "       [1.55184744e-01, 8.44815256e-01],\n",
              "       [1.88862768e-10, 1.00000000e+00],\n",
              "       ...,\n",
              "       [9.59767679e-01, 4.02323206e-02],\n",
              "       [1.97432642e-18, 1.00000000e+00],\n",
              "       [3.08590790e-02, 9.69140921e-01]])"
            ]
          },
          "metadata": {},
          "execution_count": 38
        }
      ]
    },
    {
      "cell_type": "markdown",
      "source": [
        "ROC Curve\n",
        "\n"
      ],
      "metadata": {
        "id": "eUbXbzlFKNSJ"
      }
    },
    {
      "cell_type": "code",
      "source": [
        "# creating an ROC curve\n",
        "from sklearn.metrics import confusion_matrix as sk_confusion_matrix\n",
        "from sklearn.metrics import roc_curve, auc, classification_report\n",
        "import matplotlib.pyplot as plt"
      ],
      "metadata": {
        "id": "n_XAuBOkJ7zJ"
      },
      "execution_count": 39,
      "outputs": []
    },
    {
      "cell_type": "code",
      "source": [
        "# for train dataset\n",
        "false_positive_rate_tr, true_positive_rate_tr, thresholds_tr = roc_curve(y_train, y_pred_proba_tr[:,1])\n",
        "roc_auc_tr = auc(false_positive_rate_tr, true_positive_rate_tr)"
      ],
      "metadata": {
        "id": "ylsH-rO-KbhH"
      },
      "execution_count": 40,
      "outputs": []
    },
    {
      "cell_type": "code",
      "source": [
        "# for test dataset\n",
        "false_positive_rate, true_positive_rate, thresholds = roc_curve(y_test, y_pred_proba[:,1])\n",
        "roc_auc = auc(false_positive_rate, true_positive_rate)"
      ],
      "metadata": {
        "id": "ZeTN8fvuKoG8"
      },
      "execution_count": 41,
      "outputs": []
    },
    {
      "cell_type": "code",
      "source": [
        "# area under the curve\n",
        "print (roc_auc)"
      ],
      "metadata": {
        "colab": {
          "base_uri": "https://localhost:8080/"
        },
        "id": "bIqPBA_ALG0e",
        "outputId": "f0c52b10-d205-4e39-f7fa-10d8d5a356c3"
      },
      "execution_count": 42,
      "outputs": [
        {
          "output_type": "stream",
          "name": "stdout",
          "text": [
            "0.8957693467347989\n"
          ]
        }
      ]
    },
    {
      "cell_type": "code",
      "source": [
        "# matrix of thresholds, tpr, fpr\n",
        "pd.DataFrame({'Threshold': thresholds,\n",
        "              'TPR': true_positive_rate,\n",
        "              'FPR':false_positive_rate\n",
        "             })"
      ],
      "metadata": {
        "colab": {
          "base_uri": "https://localhost:8080/",
          "height": 424
        },
        "id": "5DVZtxxaLNdG",
        "outputId": "da84e78e-2034-4122-9f7e-35a712e6319c"
      },
      "execution_count": 43,
      "outputs": [
        {
          "output_type": "execute_result",
          "data": {
            "text/plain": [
              "         Threshold       TPR      FPR\n",
              "0     2.000000e+00  0.000000  0.00000\n",
              "1     1.000000e+00  0.102212  0.00826\n",
              "2     1.000000e+00  0.103547  0.00826\n",
              "3     1.000000e+00  0.105263  0.00885\n",
              "4     1.000000e+00  0.105454  0.00885\n",
              "...            ...       ...      ...\n",
              "1351  3.108398e-22  0.999809  0.99351\n",
              "1352  1.561440e-25  0.999809  0.99587\n",
              "1353  1.590790e-27  0.999809  0.99823\n",
              "1354  6.136119e-31  1.000000  0.99823\n",
              "1355  6.370861e-99  1.000000  1.00000\n",
              "\n",
              "[1356 rows x 3 columns]"
            ],
            "text/html": [
              "\n",
              "  <div id=\"df-56329783-e29a-4188-9216-5e48bc811d7d\" class=\"colab-df-container\">\n",
              "    <div>\n",
              "<style scoped>\n",
              "    .dataframe tbody tr th:only-of-type {\n",
              "        vertical-align: middle;\n",
              "    }\n",
              "\n",
              "    .dataframe tbody tr th {\n",
              "        vertical-align: top;\n",
              "    }\n",
              "\n",
              "    .dataframe thead th {\n",
              "        text-align: right;\n",
              "    }\n",
              "</style>\n",
              "<table border=\"1\" class=\"dataframe\">\n",
              "  <thead>\n",
              "    <tr style=\"text-align: right;\">\n",
              "      <th></th>\n",
              "      <th>Threshold</th>\n",
              "      <th>TPR</th>\n",
              "      <th>FPR</th>\n",
              "    </tr>\n",
              "  </thead>\n",
              "  <tbody>\n",
              "    <tr>\n",
              "      <th>0</th>\n",
              "      <td>2.000000e+00</td>\n",
              "      <td>0.000000</td>\n",
              "      <td>0.00000</td>\n",
              "    </tr>\n",
              "    <tr>\n",
              "      <th>1</th>\n",
              "      <td>1.000000e+00</td>\n",
              "      <td>0.102212</td>\n",
              "      <td>0.00826</td>\n",
              "    </tr>\n",
              "    <tr>\n",
              "      <th>2</th>\n",
              "      <td>1.000000e+00</td>\n",
              "      <td>0.103547</td>\n",
              "      <td>0.00826</td>\n",
              "    </tr>\n",
              "    <tr>\n",
              "      <th>3</th>\n",
              "      <td>1.000000e+00</td>\n",
              "      <td>0.105263</td>\n",
              "      <td>0.00885</td>\n",
              "    </tr>\n",
              "    <tr>\n",
              "      <th>4</th>\n",
              "      <td>1.000000e+00</td>\n",
              "      <td>0.105454</td>\n",
              "      <td>0.00885</td>\n",
              "    </tr>\n",
              "    <tr>\n",
              "      <th>...</th>\n",
              "      <td>...</td>\n",
              "      <td>...</td>\n",
              "      <td>...</td>\n",
              "    </tr>\n",
              "    <tr>\n",
              "      <th>1351</th>\n",
              "      <td>3.108398e-22</td>\n",
              "      <td>0.999809</td>\n",
              "      <td>0.99351</td>\n",
              "    </tr>\n",
              "    <tr>\n",
              "      <th>1352</th>\n",
              "      <td>1.561440e-25</td>\n",
              "      <td>0.999809</td>\n",
              "      <td>0.99587</td>\n",
              "    </tr>\n",
              "    <tr>\n",
              "      <th>1353</th>\n",
              "      <td>1.590790e-27</td>\n",
              "      <td>0.999809</td>\n",
              "      <td>0.99823</td>\n",
              "    </tr>\n",
              "    <tr>\n",
              "      <th>1354</th>\n",
              "      <td>6.136119e-31</td>\n",
              "      <td>1.000000</td>\n",
              "      <td>0.99823</td>\n",
              "    </tr>\n",
              "    <tr>\n",
              "      <th>1355</th>\n",
              "      <td>6.370861e-99</td>\n",
              "      <td>1.000000</td>\n",
              "      <td>1.00000</td>\n",
              "    </tr>\n",
              "  </tbody>\n",
              "</table>\n",
              "<p>1356 rows × 3 columns</p>\n",
              "</div>\n",
              "    <div class=\"colab-df-buttons\">\n",
              "\n",
              "  <div class=\"colab-df-container\">\n",
              "    <button class=\"colab-df-convert\" onclick=\"convertToInteractive('df-56329783-e29a-4188-9216-5e48bc811d7d')\"\n",
              "            title=\"Convert this dataframe to an interactive table.\"\n",
              "            style=\"display:none;\">\n",
              "\n",
              "  <svg xmlns=\"http://www.w3.org/2000/svg\" height=\"24px\" viewBox=\"0 -960 960 960\">\n",
              "    <path d=\"M120-120v-720h720v720H120Zm60-500h600v-160H180v160Zm220 220h160v-160H400v160Zm0 220h160v-160H400v160ZM180-400h160v-160H180v160Zm440 0h160v-160H620v160ZM180-180h160v-160H180v160Zm440 0h160v-160H620v160Z\"/>\n",
              "  </svg>\n",
              "    </button>\n",
              "\n",
              "  <style>\n",
              "    .colab-df-container {\n",
              "      display:flex;\n",
              "      gap: 12px;\n",
              "    }\n",
              "\n",
              "    .colab-df-convert {\n",
              "      background-color: #E8F0FE;\n",
              "      border: none;\n",
              "      border-radius: 50%;\n",
              "      cursor: pointer;\n",
              "      display: none;\n",
              "      fill: #1967D2;\n",
              "      height: 32px;\n",
              "      padding: 0 0 0 0;\n",
              "      width: 32px;\n",
              "    }\n",
              "\n",
              "    .colab-df-convert:hover {\n",
              "      background-color: #E2EBFA;\n",
              "      box-shadow: 0px 1px 2px rgba(60, 64, 67, 0.3), 0px 1px 3px 1px rgba(60, 64, 67, 0.15);\n",
              "      fill: #174EA6;\n",
              "    }\n",
              "\n",
              "    .colab-df-buttons div {\n",
              "      margin-bottom: 4px;\n",
              "    }\n",
              "\n",
              "    [theme=dark] .colab-df-convert {\n",
              "      background-color: #3B4455;\n",
              "      fill: #D2E3FC;\n",
              "    }\n",
              "\n",
              "    [theme=dark] .colab-df-convert:hover {\n",
              "      background-color: #434B5C;\n",
              "      box-shadow: 0px 1px 3px 1px rgba(0, 0, 0, 0.15);\n",
              "      filter: drop-shadow(0px 1px 2px rgba(0, 0, 0, 0.3));\n",
              "      fill: #FFFFFF;\n",
              "    }\n",
              "  </style>\n",
              "\n",
              "    <script>\n",
              "      const buttonEl =\n",
              "        document.querySelector('#df-56329783-e29a-4188-9216-5e48bc811d7d button.colab-df-convert');\n",
              "      buttonEl.style.display =\n",
              "        google.colab.kernel.accessAllowed ? 'block' : 'none';\n",
              "\n",
              "      async function convertToInteractive(key) {\n",
              "        const element = document.querySelector('#df-56329783-e29a-4188-9216-5e48bc811d7d');\n",
              "        const dataTable =\n",
              "          await google.colab.kernel.invokeFunction('convertToInteractive',\n",
              "                                                    [key], {});\n",
              "        if (!dataTable) return;\n",
              "\n",
              "        const docLinkHtml = 'Like what you see? Visit the ' +\n",
              "          '<a target=\"_blank\" href=https://colab.research.google.com/notebooks/data_table.ipynb>data table notebook</a>'\n",
              "          + ' to learn more about interactive tables.';\n",
              "        element.innerHTML = '';\n",
              "        dataTable['output_type'] = 'display_data';\n",
              "        await google.colab.output.renderOutput(dataTable, element);\n",
              "        const docLink = document.createElement('div');\n",
              "        docLink.innerHTML = docLinkHtml;\n",
              "        element.appendChild(docLink);\n",
              "      }\n",
              "    </script>\n",
              "  </div>\n",
              "\n",
              "\n",
              "<div id=\"df-fc9164c9-ec18-4cd4-8458-befec36bd325\">\n",
              "  <button class=\"colab-df-quickchart\" onclick=\"quickchart('df-fc9164c9-ec18-4cd4-8458-befec36bd325')\"\n",
              "            title=\"Suggest charts.\"\n",
              "            style=\"display:none;\">\n",
              "\n",
              "<svg xmlns=\"http://www.w3.org/2000/svg\" height=\"24px\"viewBox=\"0 0 24 24\"\n",
              "     width=\"24px\">\n",
              "    <g>\n",
              "        <path d=\"M19 3H5c-1.1 0-2 .9-2 2v14c0 1.1.9 2 2 2h14c1.1 0 2-.9 2-2V5c0-1.1-.9-2-2-2zM9 17H7v-7h2v7zm4 0h-2V7h2v10zm4 0h-2v-4h2v4z\"/>\n",
              "    </g>\n",
              "</svg>\n",
              "  </button>\n",
              "\n",
              "<style>\n",
              "  .colab-df-quickchart {\n",
              "      --bg-color: #E8F0FE;\n",
              "      --fill-color: #1967D2;\n",
              "      --hover-bg-color: #E2EBFA;\n",
              "      --hover-fill-color: #174EA6;\n",
              "      --disabled-fill-color: #AAA;\n",
              "      --disabled-bg-color: #DDD;\n",
              "  }\n",
              "\n",
              "  [theme=dark] .colab-df-quickchart {\n",
              "      --bg-color: #3B4455;\n",
              "      --fill-color: #D2E3FC;\n",
              "      --hover-bg-color: #434B5C;\n",
              "      --hover-fill-color: #FFFFFF;\n",
              "      --disabled-bg-color: #3B4455;\n",
              "      --disabled-fill-color: #666;\n",
              "  }\n",
              "\n",
              "  .colab-df-quickchart {\n",
              "    background-color: var(--bg-color);\n",
              "    border: none;\n",
              "    border-radius: 50%;\n",
              "    cursor: pointer;\n",
              "    display: none;\n",
              "    fill: var(--fill-color);\n",
              "    height: 32px;\n",
              "    padding: 0;\n",
              "    width: 32px;\n",
              "  }\n",
              "\n",
              "  .colab-df-quickchart:hover {\n",
              "    background-color: var(--hover-bg-color);\n",
              "    box-shadow: 0 1px 2px rgba(60, 64, 67, 0.3), 0 1px 3px 1px rgba(60, 64, 67, 0.15);\n",
              "    fill: var(--button-hover-fill-color);\n",
              "  }\n",
              "\n",
              "  .colab-df-quickchart-complete:disabled,\n",
              "  .colab-df-quickchart-complete:disabled:hover {\n",
              "    background-color: var(--disabled-bg-color);\n",
              "    fill: var(--disabled-fill-color);\n",
              "    box-shadow: none;\n",
              "  }\n",
              "\n",
              "  .colab-df-spinner {\n",
              "    border: 2px solid var(--fill-color);\n",
              "    border-color: transparent;\n",
              "    border-bottom-color: var(--fill-color);\n",
              "    animation:\n",
              "      spin 1s steps(1) infinite;\n",
              "  }\n",
              "\n",
              "  @keyframes spin {\n",
              "    0% {\n",
              "      border-color: transparent;\n",
              "      border-bottom-color: var(--fill-color);\n",
              "      border-left-color: var(--fill-color);\n",
              "    }\n",
              "    20% {\n",
              "      border-color: transparent;\n",
              "      border-left-color: var(--fill-color);\n",
              "      border-top-color: var(--fill-color);\n",
              "    }\n",
              "    30% {\n",
              "      border-color: transparent;\n",
              "      border-left-color: var(--fill-color);\n",
              "      border-top-color: var(--fill-color);\n",
              "      border-right-color: var(--fill-color);\n",
              "    }\n",
              "    40% {\n",
              "      border-color: transparent;\n",
              "      border-right-color: var(--fill-color);\n",
              "      border-top-color: var(--fill-color);\n",
              "    }\n",
              "    60% {\n",
              "      border-color: transparent;\n",
              "      border-right-color: var(--fill-color);\n",
              "    }\n",
              "    80% {\n",
              "      border-color: transparent;\n",
              "      border-right-color: var(--fill-color);\n",
              "      border-bottom-color: var(--fill-color);\n",
              "    }\n",
              "    90% {\n",
              "      border-color: transparent;\n",
              "      border-bottom-color: var(--fill-color);\n",
              "    }\n",
              "  }\n",
              "</style>\n",
              "\n",
              "  <script>\n",
              "    async function quickchart(key) {\n",
              "      const quickchartButtonEl =\n",
              "        document.querySelector('#' + key + ' button');\n",
              "      quickchartButtonEl.disabled = true;  // To prevent multiple clicks.\n",
              "      quickchartButtonEl.classList.add('colab-df-spinner');\n",
              "      try {\n",
              "        const charts = await google.colab.kernel.invokeFunction(\n",
              "            'suggestCharts', [key], {});\n",
              "      } catch (error) {\n",
              "        console.error('Error during call to suggestCharts:', error);\n",
              "      }\n",
              "      quickchartButtonEl.classList.remove('colab-df-spinner');\n",
              "      quickchartButtonEl.classList.add('colab-df-quickchart-complete');\n",
              "    }\n",
              "    (() => {\n",
              "      let quickchartButtonEl =\n",
              "        document.querySelector('#df-fc9164c9-ec18-4cd4-8458-befec36bd325 button');\n",
              "      quickchartButtonEl.style.display =\n",
              "        google.colab.kernel.accessAllowed ? 'block' : 'none';\n",
              "    })();\n",
              "  </script>\n",
              "</div>\n",
              "    </div>\n",
              "  </div>\n"
            ]
          },
          "metadata": {},
          "execution_count": 43
        }
      ]
    },
    {
      "cell_type": "code",
      "source": [
        "# plotting the ROC curve for train set\n",
        "%matplotlib inline\n",
        "plt.ylabel('True Positive Rate')\n",
        "plt.xlabel('False Positive Rate')\n",
        "plt.title('ROC')\n",
        "plt.plot(false_positive_rate_tr, true_positive_rate_tr)"
      ],
      "metadata": {
        "colab": {
          "base_uri": "https://localhost:8080/",
          "height": 497
        },
        "id": "9Uqzkqb5LTJz",
        "outputId": "fd93a59a-5c29-4474-c116-95d66072de35"
      },
      "execution_count": 44,
      "outputs": [
        {
          "output_type": "execute_result",
          "data": {
            "text/plain": [
              "[<matplotlib.lines.Line2D at 0x79742efb7370>]"
            ]
          },
          "metadata": {},
          "execution_count": 44
        },
        {
          "output_type": "display_data",
          "data": {
            "text/plain": [
              "<Figure size 640x480 with 1 Axes>"
            ],
            "image/png": "[encoded data removed]"
          },
          "metadata": {}
        }
      ]
    },
    {
      "cell_type": "code",
      "source": [
        "# plotting the ROC curve for test set\n",
        "%matplotlib inline\n",
        "plt.ylabel('True Positive Rate')\n",
        "plt.xlabel('False Positive Rate')\n",
        "plt.title('ROC')\n",
        "plt.plot(false_positive_rate, true_positive_rate)"
      ],
      "metadata": {
        "colab": {
          "base_uri": "https://localhost:8080/",
          "height": 497
        },
        "id": "iVDgRsFCLaax",
        "outputId": "06868740-0f6b-4f29-974a-274b817bbf9c"
      },
      "execution_count": 45,
      "outputs": [
        {
          "output_type": "execute_result",
          "data": {
            "text/plain": [
              "[<matplotlib.lines.Line2D at 0x79742efd8160>]"
            ]
          },
          "metadata": {},
          "execution_count": 45
        },
        {
          "output_type": "display_data",
          "data": {
            "text/plain": [
              "<Figure size 640x480 with 1 Axes>"
            ],
            "image/png": "[encoded data removed]"
          },
          "metadata": {}
        }
      ]
    },
    {
      "cell_type": "markdown",
      "source": [
        "We have checked sensitivity- specificity and precision-recall matrix for the model.\n",
        "\n",
        "Models accuracy,sensitivity,specificity on train and test dataset are :\n",
        "*   Train dataset :accuracy(87%),sensitivity (95%),specificity(64%)\n",
        "*   Test Dataset : accuracy(86%),sensitivity (95%),specificity(59%)\n",
        "\n",
        "\n",
        "\n",
        "  \n",
        "\n",
        "\n",
        "Models precision,recall,F1 score on train and test dataset are :\n",
        "\n",
        "\n",
        "*  Train dataset :precision(88%),recall (95%),F1 score(92%)\n",
        "*  Test Dataset : precision(87%),recall (95%),F1 score(91%)\n",
        "\n",
        "\n",
        "*   List ite\n",
        "\n",
        "\n",
        "\n",
        "\n",
        "\n",
        "Area under curve : 90%\n",
        "\n",
        "Since the distribution of the dataset is imbalanced with more positives, many reviews which were negative were incorrectly classified as positives by the NB model and hence the low specificity. From a business point of view, this is not a very good model as you will miss out on the negatives of your competitors. Knowing the weaknesses of your competitors help you design better features for the product and devise your marketing strategies accordingly."
      ],
      "metadata": {
        "id": "GJIkd6WuL32k"
      }
    },
    {
      "cell_type": "code",
      "source": [
        "# Printing the classification report\n",
        "print(\"report for train set\")\n",
        "print(classification_report(y_train, y_pred_train))\n",
        "print(\"report for test set\")\n",
        "print(classification_report(y_test, y_pred_class))"
      ],
      "metadata": {
        "colab": {
          "base_uri": "https://localhost:8080/"
        },
        "id": "MOzi_NuRLsSk",
        "outputId": "12692c61-4537-4d83-de44-011eb700410a"
      },
      "execution_count": 46,
      "outputs": [
        {
          "output_type": "stream",
          "name": "stdout",
          "text": [
            "report for train set\n",
            "              precision    recall  f1-score   support\n",
            "\n",
            "           0       0.85      0.63      0.72      5120\n",
            "           1       0.89      0.96      0.93     15694\n",
            "\n",
            "    accuracy                           0.88     20814\n",
            "   macro avg       0.87      0.80      0.82     20814\n",
            "weighted avg       0.88      0.88      0.88     20814\n",
            "\n",
            "report for test set\n",
            "              precision    recall  f1-score   support\n",
            "\n",
            "           0       0.83      0.55      0.66      1695\n",
            "           1       0.87      0.96      0.91      5244\n",
            "\n",
            "    accuracy                           0.86      6939\n",
            "   macro avg       0.85      0.76      0.79      6939\n",
            "weighted avg       0.86      0.86      0.85      6939\n",
            "\n"
          ]
        }
      ]
    },
    {
      "cell_type": "markdown",
      "source": [
        "Macro average is just the average of performance metrics of both the classes where as the weighted average assigns weights to the metrics of the classes according to their distribution in the original dataset. Macro and weighted averages are more useful in a multi-class calssification problems because in case of a binary classification, we already know what our positive and negative classes are to evaluate the model performance."
      ],
      "metadata": {
        "id": "c4oBqLJMNy0O"
      }
    },
    {
      "cell_type": "markdown",
      "source": [
        "# **Model 2:**\n",
        "\n",
        "With Oversampling\n",
        "\n",
        "A skewed data is the one where there are more training examples for one class than another. This was evident from the specificity which was calculated in the model above. This can cause the decision boundary weights to be biased. This causes the classifier to unwittingly prefer one class over the other.\n",
        "\n",
        "We have shown the reason for the bias in the previous model and propose to alleviate the problem by using a method called Random oversampling. Random oversampling involves randomly selecting samples from the minority class (in our case 0s), with replacement, and adding them to the training dataset such that there is an equal distribution of the classes."
      ],
      "metadata": {
        "id": "tppisUa1N6pU"
      }
    },
    {
      "cell_type": "code",
      "source": [
        "# splitting the data into test and train\n",
        "from sklearn.model_selection  import train_test_split\n",
        "\n",
        "X_train, X_test, y_train, y_test = train_test_split(X, y, random_state=1)"
      ],
      "metadata": {
        "id": "xXo5rWYRNALp"
      },
      "execution_count": 47,
      "outputs": []
    },
    {
      "cell_type": "code",
      "source": [
        "pd.Series(y_train).value_counts()"
      ],
      "metadata": {
        "colab": {
          "base_uri": "https://localhost:8080/"
        },
        "id": "zEg-CoNZODmX",
        "outputId": "8d347306-bcf4-47a8-c2ba-01368276b519"
      },
      "execution_count": 48,
      "outputs": [
        {
          "output_type": "execute_result",
          "data": {
            "text/plain": [
              "1    15694\n",
              "0     5120\n",
              "Name: review_sentiment, dtype: int64"
            ]
          },
          "metadata": {},
          "execution_count": 48
        }
      ]
    },
    {
      "cell_type": "markdown",
      "source": [
        "Why oversampling is done only on training set?\n",
        "If both the train and test data are oversampled, we may end up having same points in both the sets. Hence the model performance obtained cannot be reliable as the test set is not independent of the train set."
      ],
      "metadata": {
        "id": "LeAIzTjuON8o"
      }
    },
    {
      "cell_type": "code",
      "source": [
        "#from imblearn import over_sampling\n",
        "from imblearn import over_sampling\n",
        "ros = over_sampling.RandomOverSampler(random_state=0)"
      ],
      "metadata": {
        "id": "jGk79Nh4OQtI"
      },
      "execution_count": 49,
      "outputs": []
    },
    {
      "cell_type": "code",
      "source": [
        "X_train, y_train = ros.fit_resample(pd.DataFrame(X_train), pd.Series(y_train))"
      ],
      "metadata": {
        "id": "qwG2l-zXOTLy"
      },
      "execution_count": 50,
      "outputs": []
    },
    {
      "cell_type": "code",
      "source": [
        "pd.Series(y_train).value_counts()"
      ],
      "metadata": {
        "colab": {
          "base_uri": "https://localhost:8080/"
        },
        "id": "BqAiPrMxOX7a",
        "outputId": "17199404-289e-4eea-915e-d7e37b8de2ff"
      },
      "execution_count": 51,
      "outputs": [
        {
          "output_type": "execute_result",
          "data": {
            "text/plain": [
              "1    15694\n",
              "0    15694\n",
              "Name: review_sentiment, dtype: int64"
            ]
          },
          "metadata": {},
          "execution_count": 51
        }
      ]
    },
    {
      "cell_type": "code",
      "source": [
        "#Distribution of the data in terms of proportions can now be seen as 50 -50\n",
        "print(\"Percent of 1s: \", 100*pd.Series(y_train).value_counts()[1]/pd.Series(y_train).value_counts().sum(), \"%\")\n",
        "print(\"Percent of 0s: \", 100*pd.Series(y_train).value_counts()[0]/pd.Series(y_train).value_counts().sum(), \"%\")"
      ],
      "metadata": {
        "colab": {
          "base_uri": "https://localhost:8080/"
        },
        "id": "HmtJ_B7mOao0",
        "outputId": "ebdc50fe-c3d1-4704-9526-ae0edf083bb9"
      },
      "execution_count": 52,
      "outputs": [
        {
          "output_type": "stream",
          "name": "stdout",
          "text": [
            "Percent of 1s:  50.0 %\n",
            "Percent of 0s:  50.0 %\n"
          ]
        }
      ]
    },
    {
      "cell_type": "code",
      "source": [
        "# vectorizing the sentences\n",
        "from sklearn.feature_extraction.text import CountVectorizer\n",
        "vect = CountVectorizer()"
      ],
      "metadata": {
        "id": "tARWIGePOl-p"
      },
      "execution_count": 53,
      "outputs": []
    },
    {
      "cell_type": "code",
      "source": [
        "# The CountVectorizer object, vect takes in a list of string as an argument. to get a list of string from a 2D array,\n",
        "# we convert the 2D array to a dataframe and then convert it to a list.\n",
        "\n",
        "X_train = pd.DataFrame(X_train).iloc[:,0].tolist()\n",
        "\n",
        "#Printing a few samples from the list\n",
        "X_train[:6]"
      ],
      "metadata": {
        "colab": {
          "base_uri": "https://localhost:8080/"
        },
        "id": "ajySZYJlOfU5",
        "outputId": "c1c9d2da-eb03-48d5-9515-1101e29cc071"
      },
      "execution_count": 54,
      "outputs": [
        {
          "output_type": "execute_result",
          "data": {
            "text/plain": [
              "['good feature',\n",
              " 'nice',\n",
              " 'good',\n",
              " 'excellen',\n",
              " 'phone stop month',\n",
              " 'great phone advertise version support gsm band work internationally depend band cellular service provider check countries support band  nhttp  ww worldtimezone com gsm html n nas warn phone not work cdma network verizon  n nthis great budget phone feature usually find higher phone definitely cheaper phone available market filter dual sim quad band dual cameras ips display not better phone price range n nwhat lack phone  n  screen resolution not like high phone honest not notice difference screen size not high end phone comparison premium phone uhd display not apples apples phone lacks n n  internal storage issue note expand  gb microsd card change introduce android lollipop not allow apps acces microsd card app related data storage use lot internal storage limit mind n noveral great budget phone write review sept google days announce version android market android phone hold release android phone natively preloaded android not clear blu phone support android']"
            ]
          },
          "metadata": {},
          "execution_count": 54
        }
      ]
    },
    {
      "cell_type": "code",
      "source": [
        "#Fitting X_train into a vectorizer\n",
        "vect.fit(X_train)"
      ],
      "metadata": {
        "colab": {
          "base_uri": "https://localhost:8080/",
          "height": 75
        },
        "id": "SzYBh-otOro6",
        "outputId": "7ae2f205-322f-4106-84e4-a703ad610bac"
      },
      "execution_count": 55,
      "outputs": [
        {
          "output_type": "execute_result",
          "data": {
            "text/plain": [
              "CountVectorizer()"
            ],
            "text/html": [
              "<style>#sk-container-id-2 {color: black;background-color: white;}#sk-container-id-2 pre{padding: 0;}#sk-container-id-2 div.sk-toggleable {background-color: white;}#sk-container-id-2 label.sk-toggleable__label {cursor: pointer;display: block;width: 100%;margin-bottom: 0;padding: 0.3em;box-sizing: border-box;text-align: center;}#sk-container-id-2 label.sk-toggleable__label-arrow:before {content: \"▸\";float: left;margin-right: 0.25em;color: #696969;}#sk-container-id-2 label.sk-toggleable__label-arrow:hover:before {color: black;}#sk-container-id-2 div.sk-estimator:hover label.sk-toggleable__label-arrow:before {color: black;}#sk-container-id-2 div.sk-toggleable__content {max-height: 0;max-width: 0;overflow: hidden;text-align: left;background-color: #f0f8ff;}#sk-container-id-2 div.sk-toggleable__content pre {margin: 0.2em;color: black;border-radius: 0.25em;background-color: #f0f8ff;}#sk-container-id-2 input.sk-toggleable__control:checked~div.sk-toggleable__content {max-height: 200px;max-width: 100%;overflow: auto;}#sk-container-id-2 input.sk-toggleable__control:checked~label.sk-toggleable__label-arrow:before {content: \"▾\";}#sk-container-id-2 div.sk-estimator input.sk-toggleable__control:checked~label.sk-toggleable__label {background-color: #d4ebff;}#sk-container-id-2 div.sk-label input.sk-toggleable__control:checked~label.sk-toggleable__label {background-color: #d4ebff;}#sk-container-id-2 input.sk-hidden--visually {border: 0;clip: rect(1px 1px 1px 1px);clip: rect(1px, 1px, 1px, 1px);height: 1px;margin: -1px;overflow: hidden;padding: 0;position: absolute;width: 1px;}#sk-container-id-2 div.sk-estimator {font-family: monospace;background-color: #f0f8ff;border: 1px dotted black;border-radius: 0.25em;box-sizing: border-box;margin-bottom: 0.5em;}#sk-container-id-2 div.sk-estimator:hover {background-color: #d4ebff;}#sk-container-id-2 div.sk-parallel-item::after {content: \"\";width: 100%;border-bottom: 1px solid gray;flex-grow: 1;}#sk-container-id-2 div.sk-label:hover label.sk-toggleable__label {background-color: #d4ebff;}#sk-container-id-2 div.sk-serial::before {content: \"\";position: absolute;border-left: 1px solid gray;box-sizing: border-box;top: 0;bottom: 0;left: 50%;z-index: 0;}#sk-container-id-2 div.sk-serial {display: flex;flex-direction: column;align-items: center;background-color: white;padding-right: 0.2em;padding-left: 0.2em;position: relative;}#sk-container-id-2 div.sk-item {position: relative;z-index: 1;}#sk-container-id-2 div.sk-parallel {display: flex;align-items: stretch;justify-content: center;background-color: white;position: relative;}#sk-container-id-2 div.sk-item::before, #sk-container-id-2 div.sk-parallel-item::before {content: \"\";position: absolute;border-left: 1px solid gray;box-sizing: border-box;top: 0;bottom: 0;left: 50%;z-index: -1;}#sk-container-id-2 div.sk-parallel-item {display: flex;flex-direction: column;z-index: 1;position: relative;background-color: white;}#sk-container-id-2 div.sk-parallel-item:first-child::after {align-self: flex-end;width: 50%;}#sk-container-id-2 div.sk-parallel-item:last-child::after {align-self: flex-start;width: 50%;}#sk-container-id-2 div.sk-parallel-item:only-child::after {width: 0;}#sk-container-id-2 div.sk-dashed-wrapped {border: 1px dashed gray;margin: 0 0.4em 0.5em 0.4em;box-sizing: border-box;padding-bottom: 0.4em;background-color: white;}#sk-container-id-2 div.sk-label label {font-family: monospace;font-weight: bold;display: inline-block;line-height: 1.2em;}#sk-container-id-2 div.sk-label-container {text-align: center;}#sk-container-id-2 div.sk-container {/* jupyter's `normalize.less` sets `[hidden] { display: none; }` but bootstrap.min.css set `[hidden] { display: none !important; }` so we also need the `!important` here to be able to override the default hidden behavior on the sphinx rendered scikit-learn.org. See: https://github.com/scikit-learn/scikit-learn/issues/21755 */display: inline-block !important;position: relative;}#sk-container-id-2 div.sk-text-repr-fallback {display: none;}</style><div id=\"sk-container-id-2\" class=\"sk-top-container\"><div class=\"sk-text-repr-fallback\"><pre>CountVectorizer()</pre><b>In a Jupyter environment, please rerun this cell to show the HTML representation or trust the notebook. <br />On GitHub, the HTML representation is unable to render, please try loading this page with nbviewer.org.</b></div><div class=\"sk-container\" hidden><div class=\"sk-item\"><div class=\"sk-estimator sk-toggleable\"><input class=\"sk-toggleable__control sk-hidden--visually\" id=\"sk-estimator-id-2\" type=\"checkbox\" checked><label for=\"sk-estimator-id-2\" class=\"sk-toggleable__label sk-toggleable__label-arrow\">CountVectorizer</label><div class=\"sk-toggleable__content\"><pre>CountVectorizer()</pre></div></div></div></div></div>"
            ]
          },
          "metadata": {},
          "execution_count": 55
        }
      ]
    },
    {
      "cell_type": "code",
      "source": [
        "# Transforming the train and test datasets\n",
        "X_train_transformed = vect.transform(X_train)\n",
        "X_test_transformed = vect.transform(X_test)"
      ],
      "metadata": {
        "id": "DrPhDJq4O1Rp"
      },
      "execution_count": 56,
      "outputs": []
    },
    {
      "cell_type": "markdown",
      "source": [
        "## **Naive Bayes model with random oversampling**"
      ],
      "metadata": {
        "id": "p0GIg47FO_fH"
      }
    },
    {
      "cell_type": "code",
      "source": [
        "from sklearn.model_selection import train_test_split\n",
        "from sklearn.naive_bayes import MultinomialNB"
      ],
      "metadata": {
        "id": "YOzV1HNOO7ly"
      },
      "execution_count": 57,
      "outputs": []
    },
    {
      "cell_type": "code",
      "source": [
        "# training the NB model and making predictions\n",
        "from sklearn.naive_bayes import MultinomialNB\n",
        "mnb = MultinomialNB()\n",
        "\n",
        "# fit\n",
        "mnb.fit(X_train_transformed,y_train)\n",
        "\n",
        "# Training dataset\n",
        "y_pred_train = mnb.predict(X_train_transformed)\n",
        "y_pred_proba_tr = mnb.predict_proba(X_train_transformed)\n",
        "\n",
        "# Testing dataset\n",
        "y_pred = mnb.predict(X_test_transformed)\n",
        "y_pred_proba = mnb.predict_proba(X_test_transformed)"
      ],
      "metadata": {
        "id": "X-rWH8aaPDPg"
      },
      "execution_count": 58,
      "outputs": []
    },
    {
      "cell_type": "code",
      "source": [
        "# note that alpha=1 is used by default for smoothing\n",
        "mnb\n"
      ],
      "metadata": {
        "colab": {
          "base_uri": "https://localhost:8080/",
          "height": 75
        },
        "id": "2Z1SX7G2PLDJ",
        "outputId": "4690a678-a034-4aa5-da46-db54bf23bb3b"
      },
      "execution_count": 59,
      "outputs": [
        {
          "output_type": "execute_result",
          "data": {
            "text/plain": [
              "MultinomialNB()"
            ],
            "text/html": [
              "<style>#sk-container-id-3 {color: black;background-color: white;}#sk-container-id-3 pre{padding: 0;}#sk-container-id-3 div.sk-toggleable {background-color: white;}#sk-container-id-3 label.sk-toggleable__label {cursor: pointer;display: block;width: 100%;margin-bottom: 0;padding: 0.3em;box-sizing: border-box;text-align: center;}#sk-container-id-3 label.sk-toggleable__label-arrow:before {content: \"▸\";float: left;margin-right: 0.25em;color: #696969;}#sk-container-id-3 label.sk-toggleable__label-arrow:hover:before {color: black;}#sk-container-id-3 div.sk-estimator:hover label.sk-toggleable__label-arrow:before {color: black;}#sk-container-id-3 div.sk-toggleable__content {max-height: 0;max-width: 0;overflow: hidden;text-align: left;background-color: #f0f8ff;}#sk-container-id-3 div.sk-toggleable__content pre {margin: 0.2em;color: black;border-radius: 0.25em;background-color: #f0f8ff;}#sk-container-id-3 input.sk-toggleable__control:checked~div.sk-toggleable__content {max-height: 200px;max-width: 100%;overflow: auto;}#sk-container-id-3 input.sk-toggleable__control:checked~label.sk-toggleable__label-arrow:before {content: \"▾\";}#sk-container-id-3 div.sk-estimator input.sk-toggleable__control:checked~label.sk-toggleable__label {background-color: #d4ebff;}#sk-container-id-3 div.sk-label input.sk-toggleable__control:checked~label.sk-toggleable__label {background-color: #d4ebff;}#sk-container-id-3 input.sk-hidden--visually {border: 0;clip: rect(1px 1px 1px 1px);clip: rect(1px, 1px, 1px, 1px);height: 1px;margin: -1px;overflow: hidden;padding: 0;position: absolute;width: 1px;}#sk-container-id-3 div.sk-estimator {font-family: monospace;background-color: #f0f8ff;border: 1px dotted black;border-radius: 0.25em;box-sizing: border-box;margin-bottom: 0.5em;}#sk-container-id-3 div.sk-estimator:hover {background-color: #d4ebff;}#sk-container-id-3 div.sk-parallel-item::after {content: \"\";width: 100%;border-bottom: 1px solid gray;flex-grow: 1;}#sk-container-id-3 div.sk-label:hover label.sk-toggleable__label {background-color: #d4ebff;}#sk-container-id-3 div.sk-serial::before {content: \"\";position: absolute;border-left: 1px solid gray;box-sizing: border-box;top: 0;bottom: 0;left: 50%;z-index: 0;}#sk-container-id-3 div.sk-serial {display: flex;flex-direction: column;align-items: center;background-color: white;padding-right: 0.2em;padding-left: 0.2em;position: relative;}#sk-container-id-3 div.sk-item {position: relative;z-index: 1;}#sk-container-id-3 div.sk-parallel {display: flex;align-items: stretch;justify-content: center;background-color: white;position: relative;}#sk-container-id-3 div.sk-item::before, #sk-container-id-3 div.sk-parallel-item::before {content: \"\";position: absolute;border-left: 1px solid gray;box-sizing: border-box;top: 0;bottom: 0;left: 50%;z-index: -1;}#sk-container-id-3 div.sk-parallel-item {display: flex;flex-direction: column;z-index: 1;position: relative;background-color: white;}#sk-container-id-3 div.sk-parallel-item:first-child::after {align-self: flex-end;width: 50%;}#sk-container-id-3 div.sk-parallel-item:last-child::after {align-self: flex-start;width: 50%;}#sk-container-id-3 div.sk-parallel-item:only-child::after {width: 0;}#sk-container-id-3 div.sk-dashed-wrapped {border: 1px dashed gray;margin: 0 0.4em 0.5em 0.4em;box-sizing: border-box;padding-bottom: 0.4em;background-color: white;}#sk-container-id-3 div.sk-label label {font-family: monospace;font-weight: bold;display: inline-block;line-height: 1.2em;}#sk-container-id-3 div.sk-label-container {text-align: center;}#sk-container-id-3 div.sk-container {/* jupyter's `normalize.less` sets `[hidden] { display: none; }` but bootstrap.min.css set `[hidden] { display: none !important; }` so we also need the `!important` here to be able to override the default hidden behavior on the sphinx rendered scikit-learn.org. See: https://github.com/scikit-learn/scikit-learn/issues/21755 */display: inline-block !important;position: relative;}#sk-container-id-3 div.sk-text-repr-fallback {display: none;}</style><div id=\"sk-container-id-3\" class=\"sk-top-container\"><div class=\"sk-text-repr-fallback\"><pre>MultinomialNB()</pre><b>In a Jupyter environment, please rerun this cell to show the HTML representation or trust the notebook. <br />On GitHub, the HTML representation is unable to render, please try loading this page with nbviewer.org.</b></div><div class=\"sk-container\" hidden><div class=\"sk-item\"><div class=\"sk-estimator sk-toggleable\"><input class=\"sk-toggleable__control sk-hidden--visually\" id=\"sk-estimator-id-3\" type=\"checkbox\" checked><label for=\"sk-estimator-id-3\" class=\"sk-toggleable__label sk-toggleable__label-arrow\">MultinomialNB</label><div class=\"sk-toggleable__content\"><pre>MultinomialNB()</pre></div></div></div></div></div>"
            ]
          },
          "metadata": {},
          "execution_count": 59
        }
      ]
    },
    {
      "cell_type": "markdown",
      "source": [
        "## **Model evauation on Test dataset**"
      ],
      "metadata": {
        "id": "rden5awcPfMX"
      }
    },
    {
      "cell_type": "code",
      "source": [
        "from sklearn import metrics\n",
        "from sklearn.metrics import classification_report, confusion_matrix"
      ],
      "metadata": {
        "id": "JKrvOsrPPTWs"
      },
      "execution_count": 60,
      "outputs": []
    },
    {
      "cell_type": "code",
      "source": [
        "# printing the overall accuracy\n",
        "from sklearn import metrics\n",
        "print(\"Accuracy for test set is: \", metrics.accuracy_score(y_test, y_pred))\n",
        "print(\"Accuracy for train set is: \", metrics.accuracy_score(y_train, y_pred_train))"
      ],
      "metadata": {
        "colab": {
          "base_uri": "https://localhost:8080/"
        },
        "id": "qfRReCYkPlqv",
        "outputId": "b6db0a3b-a9f5-42d7-f0c7-0ab2b2d654aa"
      },
      "execution_count": 61,
      "outputs": [
        {
          "output_type": "stream",
          "name": "stdout",
          "text": [
            "Accuracy for test set is:  0.8636691165874045\n",
            "Accuracy for train set is:  0.8853702051739518\n"
          ]
        }
      ]
    },
    {
      "cell_type": "code",
      "source": [
        "#Confusion matrix for the train data\n",
        "import seaborn as sns\n",
        "import matplotlib.pyplot as plt\n",
        "\n",
        "print(\"Confusion matrix for train and test set\")\n",
        "\n",
        "plt.figure(figsize=(12,4))\n",
        "\n",
        "plt.subplot(1,2,1)\n",
        "# confusion matrix for train set\n",
        "cm_train = metrics.confusion_matrix(y_train, y_pred_train)\n",
        "sns.heatmap(cm_train/np.sum(cm_train), annot=True , fmt = ' .2%')\n",
        "# help(metrics.confusion_matrix)\n",
        "\n",
        "plt.subplot(1,2,2)\n",
        "# confusion matrix for the test data\n",
        "cm_test = metrics.confusion_matrix(y_test, y_pred)\n",
        "sns.heatmap(cm_test/np.sum(cm_test), annot=True , fmt = ' .2%')\n",
        "\n",
        "plt.show()"
      ],
      "metadata": {
        "colab": {
          "base_uri": "https://localhost:8080/",
          "height": 390
        },
        "id": "gazeilghPzXq",
        "outputId": "85ba14b8-22a3-4ce9-8622-503ccbee0869"
      },
      "execution_count": 62,
      "outputs": [
        {
          "output_type": "stream",
          "name": "stdout",
          "text": [
            "Confusion matrix for train and test set\n"
          ]
        },
        {
          "output_type": "display_data",
          "data": {
            "text/plain": [
              "<Figure size 1200x400 with 4 Axes>"
            ],
            "image/png": "[encoded data removed]"
          },
          "metadata": {}
        }
      ]
    },
    {
      "cell_type": "code",
      "source": [
        "# creating an ROC curve\n",
        "# from sklearn.metrics import confusion_matrix as sk_confusion_matrix\n",
        "from sklearn.metrics import roc_curve, auc\n",
        "import matplotlib.pyplot as plt\n",
        "\n",
        "#for test set\n",
        "false_positive_rate, true_positive_rate, thresholds = roc_curve(y_test, y_pred_proba[:,1])\n",
        "roc_auc = auc(false_positive_rate, true_positive_rate)\n",
        "#for train set\n",
        "false_positive_rate_tr, true_positive_rate_tr, thresholds_tr = roc_curve(y_train, y_pred_proba_tr[:,1])\n",
        "roc_auc_tr = auc(false_positive_rate, true_positive_rate)\n"
      ],
      "metadata": {
        "id": "GNL55wm3P9R7"
      },
      "execution_count": 63,
      "outputs": []
    },
    {
      "cell_type": "code",
      "source": [
        "# area under the curve\n",
        "print (\"for train set: \",roc_auc_tr)\n",
        "print (\"for test set: \",roc_auc)"
      ],
      "metadata": {
        "colab": {
          "base_uri": "https://localhost:8080/"
        },
        "id": "1q5ng0o-QEA0",
        "outputId": "285c09c5-4489-4541-ad1e-1d6a15de8ff9"
      },
      "execution_count": 64,
      "outputs": [
        {
          "output_type": "stream",
          "name": "stdout",
          "text": [
            "for train set:  0.8959461466285953\n",
            "for test set:  0.8959461466285953\n"
          ]
        }
      ]
    },
    {
      "cell_type": "code",
      "source": [
        "# plotting the ROC curve for test set\n",
        "%matplotlib inline\n",
        "plt.ylabel('True Positive Rate')\n",
        "plt.xlabel('False Positive Rate')\n",
        "plt.title('ROC')\n",
        "plt.plot(false_positive_rate, true_positive_rate)"
      ],
      "metadata": {
        "colab": {
          "base_uri": "https://localhost:8080/",
          "height": 497
        },
        "id": "uX0bdUnYQG1g",
        "outputId": "2843b53e-4912-4c08-b51a-a0d01fc9d0ac"
      },
      "execution_count": 65,
      "outputs": [
        {
          "output_type": "execute_result",
          "data": {
            "text/plain": [
              "[<matplotlib.lines.Line2D at 0x79742c343580>]"
            ]
          },
          "metadata": {},
          "execution_count": 65
        },
        {
          "output_type": "display_data",
          "data": {
            "text/plain": [
              "<Figure size 640x480 with 1 Axes>"
            ],
            "image/png": "[encoded data removed]"
          },
          "metadata": {}
        }
      ]
    },
    {
      "cell_type": "code",
      "source": [
        "# plotting the ROC curve for train set\n",
        "%matplotlib inline\n",
        "plt.ylabel('True Positive Rate')\n",
        "plt.xlabel('False Positive Rate')\n",
        "plt.title('ROC')\n",
        "plt.plot(false_positive_rate_tr, true_positive_rate_tr)\n"
      ],
      "metadata": {
        "colab": {
          "base_uri": "https://localhost:8080/",
          "height": 497
        },
        "id": "lCDsUCgeQL_-",
        "outputId": "8cd57d11-5513-4081-9602-8d02e962e0b7"
      },
      "execution_count": 66,
      "outputs": [
        {
          "output_type": "execute_result",
          "data": {
            "text/plain": [
              "[<matplotlib.lines.Line2D at 0x79742c364850>]"
            ]
          },
          "metadata": {},
          "execution_count": 66
        },
        {
          "output_type": "display_data",
          "data": {
            "text/plain": [
              "<Figure size 640x480 with 1 Axes>"
            ],
            "image/png": "[encoded data removed]"
          },
          "metadata": {}
        }
      ]
    },
    {
      "cell_type": "code",
      "source": [
        "# storing the values in variables\n",
        "#for test set\n",
        "TN = cm_test[0, 0]\n",
        "FP = cm_test[0, 1]\n",
        "FN = cm_test[1, 0]\n",
        "TP = cm_test[1, 1]\n",
        "#For train set\n",
        "TN_tr = cm_train[0, 0]\n",
        "FP_tr = cm_train[0, 1]\n",
        "FN_tr = cm_train[1, 0]\n",
        "TP_tr = cm_train[1, 1]"
      ],
      "metadata": {
        "id": "Rf5RAIS4QRs8"
      },
      "execution_count": 67,
      "outputs": []
    },
    {
      "cell_type": "code",
      "source": [
        "#specificity for test and train set.\n",
        "specificity_tr = TN_tr / float(TN_tr + FP_tr)\n",
        "print(\"specificity for train set: \",specificity_tr)\n",
        "specificity = TN / float(TN + FP)\n",
        "print(\"specificity for test set: \",specificity)"
      ],
      "metadata": {
        "colab": {
          "base_uri": "https://localhost:8080/"
        },
        "id": "ropgMEu5QW16",
        "outputId": "be1c1f62-cb87-420f-8bd5-e4dcb874aa97"
      },
      "execution_count": 68,
      "outputs": [
        {
          "output_type": "stream",
          "name": "stdout",
          "text": [
            "specificity for train set:  0.8805913087804257\n",
            "specificity for test set:  0.8047197640117995\n"
          ]
        }
      ]
    },
    {
      "cell_type": "code",
      "source": [
        "#Calculating the Sensitivity for train and test set\n",
        "sensitivity_tr = TP_tr / float(FN_tr + TP_tr)\n",
        "print(\"sensitivity for train set: \",sensitivity_tr)\n",
        "sensitivity = TP / float(FN + TP)\n",
        "print(\"sensitivity for test set: \",sensitivity)"
      ],
      "metadata": {
        "colab": {
          "base_uri": "https://localhost:8080/"
        },
        "id": "m9V8VO7_QZ-U",
        "outputId": "def53395-c658-44eb-c5f8-68ba3403d42b"
      },
      "execution_count": 69,
      "outputs": [
        {
          "output_type": "stream",
          "name": "stdout",
          "text": [
            "sensitivity for train set:  0.8901491015674781\n",
            "sensitivity for test set:  0.8827231121281465\n"
          ]
        }
      ]
    },
    {
      "cell_type": "markdown",
      "source": [
        "Precision\n",
        "\n",
        "We have checked sensitivity- specificity and precision-recall matrix for the model.\n",
        "\n",
        "\n",
        "Models accuracy,sensitivity,specificity on train and test dataset are :\n",
        "Train dataset :accuracy(88%),sensitivity (88%),specificity(87%)\n",
        "Test Dataset : accuracy(89%),sensitivity (87%),specificity(82%)\n",
        "\n",
        "Area under curve : 90% for both train and test dataset.\n",
        "\n",
        "\n",
        "The test sensitivity and specificity of the model without oversampling were 0.95 and 0.59 respectively. The application of oversampling model has resulted in an equal distribution of the binary labels. This has resulted in a jump in specificity by 0.23 with a slight decrease in the sensitivity by 0.08. From a business point of view, we can say that this is a better model as compared to the one that was built without oversampling."
      ],
      "metadata": {
        "id": "nywYk1G8QjU9"
      }
    },
    {
      "cell_type": "code",
      "source": [
        "# Printing the classification report\n",
        "print(\"report for train set\")\n",
        "print(classification_report(y_train, y_pred_train))\n",
        "print(\"report for test set\")\n",
        "print(classification_report(y_test, y_pred))"
      ],
      "metadata": {
        "colab": {
          "base_uri": "https://localhost:8080/"
        },
        "id": "uwj8ZLB1QeT-",
        "outputId": "7fb618d5-59e1-434a-8092-94477c0fa001"
      },
      "execution_count": 70,
      "outputs": [
        {
          "output_type": "stream",
          "name": "stdout",
          "text": [
            "report for train set\n",
            "              precision    recall  f1-score   support\n",
            "\n",
            "           0       0.89      0.88      0.88     15694\n",
            "           1       0.88      0.89      0.89     15694\n",
            "\n",
            "    accuracy                           0.89     31388\n",
            "   macro avg       0.89      0.89      0.89     31388\n",
            "weighted avg       0.89      0.89      0.89     31388\n",
            "\n",
            "report for test set\n",
            "              precision    recall  f1-score   support\n",
            "\n",
            "           0       0.69      0.80      0.74      1695\n",
            "           1       0.93      0.88      0.91      5244\n",
            "\n",
            "    accuracy                           0.86      6939\n",
            "   macro avg       0.81      0.84      0.82      6939\n",
            "weighted avg       0.87      0.86      0.87      6939\n",
            "\n"
          ]
        }
      ]
    },
    {
      "cell_type": "code",
      "source": [],
      "metadata": {
        "id": "NX47p07sQvId"
      },
      "execution_count": 70,
      "outputs": []
    }
  ]
}